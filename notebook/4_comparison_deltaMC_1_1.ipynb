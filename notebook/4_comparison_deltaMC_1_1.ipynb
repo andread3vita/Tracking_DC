{
 "cells": [
  {
   "cell_type": "code",
   "execution_count": 1,
   "metadata": {},
   "outputs": [
    {
     "name": "stderr",
     "output_type": "stream",
     "text": [
      "/afs/cern.ch/work/m/mgarciam/private/miniconda/miniconda3/envs/graphgps0/lib/python3.10/site-packages/tqdm/auto.py:21: TqdmWarning: IProgress not found. Please update jupyter and ipywidgets. See https://ipywidgets.readthedocs.io/en/stable/user_install.html\n",
      "  from .autonotebook import tqdm as notebook_tqdm\n"
     ]
    }
   ],
   "source": [
    "import gzip\n",
    "import pickle \n",
    "import mplhep as hep\n",
    "hep.style.use(\"CMS\")\n",
    "import matplotlib\n",
    "matplotlib.rc('font', size=15)\n",
    "import numpy as np\n",
    "import torch \n",
    "import dgl\n",
    "import pandas as pd\n",
    "import numpy as np\n",
    "import plotly.express as px\n",
    "import sys\n",
    "sys.path.append(\"/afs/cern.ch/work/m/mgarciam/private/Tracking_wcoc/\")\n",
    "from sklearn.cluster import DBSCAN\n",
    "#from torch_scatter import scatter_max, scatter_add, scatter_mean\n",
    "# from src.layers.inference_oc import get_clustering, obtain_intersection_values\n",
    "from scipy.optimize import linear_sum_assignment\n",
    "import numpy as np\n",
    "import matplotlib.pyplot as plt"
   ]
  },
  {
   "cell_type": "code",
   "execution_count": null,
   "metadata": {},
   "outputs": [],
   "source": [
    "## COMPARING CLD EVENTS TO IDEA EVENTS 1-1"
   ]
  },
  {
   "cell_type": "code",
   "execution_count": 23,
   "metadata": {},
   "outputs": [
    {
     "name": "stderr",
     "output_type": "stream",
     "text": [
      "/afs/cern.ch/work/m/mgarciam/private/Tracking_wcoc/src/utils/inference/pandas_helpers.py:48: UserWarning: evaluating in Python space because the '*' operator is not supported by numexpr for the bool dtype, use '&' instead.\n",
      "  mask = (~np.isnan(sd[\"pred_showers_E\"])) * (~np.isnan(sd[\"reco_showers_E\"]))\n",
      "/afs/cern.ch/work/m/mgarciam/private/Tracking_wcoc/src/utils/inference/pandas_helpers.py:48: UserWarning: evaluating in Python space because the '*' operator is not supported by numexpr for the bool dtype, use '&' instead.\n",
      "  mask = (~np.isnan(sd[\"pred_showers_E\"])) * (~np.isnan(sd[\"reco_showers_E\"]))\n"
     ]
    }
   ],
   "source": [
    "from src.utils.inference.pandas_helpers import open_mlpf_dataframe\n",
    "path_hgcal = \"/eos/user/m/mgarciam/EVAL_REPOS/Tracking_CLD/models/230724/showers_df_evaluation/0_0_0_2210_4000_6000.pt\"\n",
    "sd_hgb, matched_hgb = open_mlpf_dataframe(path_hgcal, False)\n",
    "\n",
    "# path_hgcal = \"/eos/user/m/mgarciam/EVAL_REPOS/Tracking_CLD/models/230724/showers_df_evaluation/0_0_1_test.pt\"\n",
    "# sd_hgb_ct, matched_hgb = open_mlpf_dataframe(path_hgcal, False)\n",
    "\n",
    "\n",
    "\n",
    "path_hgcal = \"/eos/user/m/mgarciam/EVAL_REPOS/Tracking_CLD/models/230724/showers_df_evaluation/0_0_0_2210_5000_6000_hdbscan.pt\"\n",
    "sd_hgb_ct, matched_hgb = open_mlpf_dataframe(path_hgcal, False)\n",
    "\n",
    "\n",
    "\n",
    "path_hgcal = \"/eos/user/m/mgarciam/EVAL_REPOS/Tracking_wcoc/models/180324_Zcard_v_full/showers_df_evaluation/0_0_0_Zjj_5000_6000_v1.pt\"\n",
    "allsd = pd.read_pickle(path_hgcal)\n",
    "path_hgcal = \"/eos/user/m/mgarciam/EVAL_REPOS/Tracking_wcoc/models/180324_Zcard_v_full/showers_df_evaluation/0_0_0Zjj_2810_5000_6000_hdbscan_noseparation.pt\"\n",
    "allsd1 = pd.read_pickle(path_hgcal)\n"
   ]
  },
  {
   "cell_type": "code",
   "execution_count": 18,
   "metadata": {},
   "outputs": [],
   "source": [
    "# import seaborn as sns\n",
    "# plt.figure(figsize=(4,4))\n",
    "# sns.histplot(sd_hgb.true_showers_pt, stat=\"probability\", binwidth=1, color=\"red\")\n",
    "# plt.figure(figsize=(4,4))\n",
    "# sns.histplot(subset1.true_showers_pt, stat=\"probability\", binwidth=1, color=\"blue\")\n"
   ]
  },
  {
   "cell_type": "markdown",
   "metadata": {},
   "source": []
  },
  {
   "cell_type": "code",
   "execution_count": 24,
   "metadata": {},
   "outputs": [
    {
     "name": "stderr",
     "output_type": "stream",
     "text": [
      "/tmp/mgarciam/ipykernel_677008/1295966252.py:9: UserWarning: evaluating in Python space because the '*' operator is not supported by numexpr for the bool dtype, use '&' instead.\n",
      "  total_mask_ct = mask_R*mask_theta_lower*mask_theta_higher*mask_delta_MC*mask_gen_status*mask_number_unique_hits\n",
      "/tmp/mgarciam/ipykernel_677008/1295966252.py:10: UserWarning: evaluating in Python space because the '*' operator is not supported by numexpr for the bool dtype, use '&' instead.\n",
      "  mask_delta_plot = mask_R*mask_theta_lower*mask_theta_higher*mask_pt*mask_gen_status*mask_number_unique_hits*mask_delta_MC_1\n",
      "/tmp/mgarciam/ipykernel_677008/1295966252.py:12: UserWarning: evaluating in Python space because the '*' operator is not supported by numexpr for the bool dtype, use '&' instead.\n",
      "  mask_no_R = mask_theta_lower*mask_theta_higher*mask_delta_MC*mask_pt*mask_gen_status*mask_number_unique_hits\n"
     ]
    },
    {
     "name": "stdout",
     "output_type": "stream",
     "text": [
      "3043356 1739629\n"
     ]
    },
    {
     "name": "stderr",
     "output_type": "stream",
     "text": [
      "/tmp/mgarciam/ipykernel_677008/1295966252.py:27: UserWarning: evaluating in Python space because the '*' operator is not supported by numexpr for the bool dtype, use '&' instead.\n",
      "  total_mask = mask_R*mask_theta_lower*mask_theta_higher*mask_delta_MC*mask_gen_status*mask_number_unique_hits\n",
      "/tmp/mgarciam/ipykernel_677008/1295966252.py:28: UserWarning: evaluating in Python space because the '*' operator is not supported by numexpr for the bool dtype, use '&' instead.\n",
      "  mask_delta_plot = mask_R*mask_theta_lower*mask_theta_higher*mask_pt*mask_gen_status*mask_number_unique_hits*mask_delta_MC_1\n",
      "/tmp/mgarciam/ipykernel_677008/1295966252.py:29: UserWarning: evaluating in Python space because the '*' operator is not supported by numexpr for the bool dtype, use '&' instead.\n",
      "  mask_no_R = mask_theta_lower*mask_theta_higher*mask_delta_MC*mask_pt*mask_gen_status*mask_number_unique_hits\n"
     ]
    },
    {
     "name": "stdout",
     "output_type": "stream",
     "text": [
      "6073988 3473102\n"
     ]
    }
   ],
   "source": [
    "\n",
    "mask_R = sd_hgb_ct[\"R\"].values<0.05\n",
    "mask_number_unique_hits =  sd_hgb_ct[\"number_unique_hits\"].values>3\n",
    "mask_theta_lower = sd_hgb_ct[\"theta\"].values>(10/180*np.pi)\n",
    "mask_theta_higher = sd_hgb_ct[\"theta\"].values<(170/180*np.pi)\n",
    "mask_delta_MC = sd_hgb_ct[\"delta_MC\"].values>0.02\n",
    "mask_delta_MC_1 = sd_hgb_ct[\"delta_MC\"].values>0\n",
    "mask_pt = sd_hgb_ct[\"true_showers_pt\"].values>1\n",
    "mask_gen_status = sd_hgb_ct[\"gen_status\"]==1\n",
    "total_mask_ct = mask_R*mask_theta_lower*mask_theta_higher*mask_delta_MC*mask_gen_status*mask_number_unique_hits\n",
    "mask_delta_plot = mask_R*mask_theta_lower*mask_theta_higher*mask_pt*mask_gen_status*mask_number_unique_hits*mask_delta_MC_1\n",
    "#mask_delta_plot = mask_pt*mask_gen_status*mask_number_unique_hits*mask_delta_MC_1\n",
    "mask_no_R = mask_theta_lower*mask_theta_higher*mask_delta_MC*mask_pt*mask_gen_status*mask_number_unique_hits\n",
    "total_mask_ct_all_partices = mask_R*mask_theta_lower*mask_theta_higher*mask_delta_MC*mask_number_unique_hits\n",
    "print(len(sd_hgb_ct), len( sd_hgb_ct[total_mask_ct]))\n",
    "reconstructable_ct = sd_hgb_ct[total_mask_ct]\n",
    "reco_R_ct  = sd_hgb_ct[mask_no_R]\n",
    "reco_delta_plot = sd_hgb_ct[mask_delta_plot]\n",
    "reconstructable_ct_all_p = sd_hgb_ct[total_mask_ct_all_partices]\n",
    "mask_R = sd_hgb[\"R\"].values<0.05\n",
    "mask_number_unique_hits =  sd_hgb[\"number_unique_hits\"].values>3\n",
    "mask_theta_lower = sd_hgb[\"theta\"].values>(10/180*np.pi)\n",
    "mask_theta_higher = sd_hgb[\"theta\"].values<(170/180*np.pi)\n",
    "mask_delta_MC = sd_hgb[\"delta_MC\"].values>0.02\n",
    "mask_delta_MC_1 = sd_hgb[\"delta_MC\"].values>0\n",
    "mask_pt = sd_hgb[\"true_showers_pt\"].values>1\n",
    "mask_gen_status = sd_hgb[\"gen_status\"]==1\n",
    "total_mask = mask_R*mask_theta_lower*mask_theta_higher*mask_delta_MC*mask_gen_status*mask_number_unique_hits\n",
    "mask_delta_plot = mask_R*mask_theta_lower*mask_theta_higher*mask_pt*mask_gen_status*mask_number_unique_hits*mask_delta_MC_1\n",
    "mask_no_R = mask_theta_lower*mask_theta_higher*mask_delta_MC*mask_pt*mask_gen_status*mask_number_unique_hits\n",
    "total_mask_all_particles = mask_R*mask_theta_lower*mask_theta_higher*mask_delta_MC*mask_number_unique_hits\n",
    "print(len(sd_hgb), len(sd_hgb[total_mask]))\n",
    "reconstructable_ml = sd_hgb[total_mask]\n",
    "reconstructable_ml_all_p = sd_hgb[total_mask_all_particles]\n",
    "reco_R_ml   = sd_hgb[mask_no_R]\n",
    "reco_delta_plot_ml = sd_hgb[mask_delta_plot]"
   ]
  },
  {
   "cell_type": "code",
   "execution_count": 20,
   "metadata": {},
   "outputs": [
    {
     "name": "stderr",
     "output_type": "stream",
     "text": [
      "/tmp/mgarciam/ipykernel_677008/1587590397.py:14: UserWarning: evaluating in Python space because the '*' operator is not supported by numexpr for the bool dtype, use '&' instead.\n",
      "  sd_hgb_ = allsd[mask_reco*mask_delta*mask_dc_hits*mask_gen_status]\n",
      "/tmp/mgarciam/ipykernel_677008/1587590397.py:15: UserWarning: evaluating in Python space because the '*' operator is not supported by numexpr for the bool dtype, use '&' instead.\n",
      "  sd_hgb_mc = allsd[mask_reco*mask_dc_hits*mask_pt*mask_gen_status*mask_delta_1]\n"
     ]
    },
    {
     "name": "stdout",
     "output_type": "stream",
     "text": [
      "1893146 1153152\n",
      "0.0010000000000000002 0.0016487212707001285 139 141\n",
      "0.0016487212707001285 0.0027182818284590456 281 288\n",
      "0.0027182818284590456 0.004481689070338066 365 380\n",
      "0.004481689070338066 0.007389056098930652 902 934\n",
      "0.007389056098930652 0.012182493960703476 2031 2117\n",
      "0.012182493960703476 0.020085536923187673 5350 5519\n",
      "0.020085536923187673 0.03311545195869232 13771 14049\n",
      "0.03311545195869232 0.05459815003314425 33491 33989\n",
      "0.05459815003314425 0.09001713130052184 68421 69179\n",
      "0.09001713130052184 0.14841315910257663 103995 104675\n",
      "0.14841315910257663 0.24469193226422048 113660 114190\n",
      "0.24469193226422048 0.4034287934927352 89954 90325\n",
      "0.4034287934927352 0.665141633044362 48946 49153\n",
      "0.665141633044362 1.096633158428459 17840 17902\n",
      "1622260 1159543\n"
     ]
    },
    {
     "name": "stderr",
     "output_type": "stream",
     "text": [
      "/tmp/mgarciam/ipykernel_677008/1587590397.py:34: UserWarning: evaluating in Python space because the '*' operator is not supported by numexpr for the bool dtype, use '&' instead.\n",
      "  sd_hgb_ = allsd1[mask_reco*mask_delta*mask_dc_hits*mask_gen_status]\n",
      "/tmp/mgarciam/ipykernel_677008/1587590397.py:35: UserWarning: evaluating in Python space because the '*' operator is not supported by numexpr for the bool dtype, use '&' instead.\n",
      "  sd_hgb_mc = allsd1[mask_reco*mask_dc_hits*mask_pt*mask_gen_status*mask_delta_1]\n"
     ]
    },
    {
     "name": "stdout",
     "output_type": "stream",
     "text": [
      "0.0010000000000000002 0.0016487212707001285 135 137\n",
      "0.0016487212707001285 0.0027182818284590456 272 280\n",
      "0.0027182818284590456 0.004481689070338066 368 382\n",
      "0.004481689070338066 0.007389056098930652 911 946\n",
      "0.007389056098930652 0.012182493960703476 2131 2226\n",
      "0.012182493960703476 0.020085536923187673 5602 5790\n",
      "0.020085536923187673 0.03311545195869232 14219 14561\n",
      "0.03311545195869232 0.05459815003314425 34229 34850\n",
      "0.05459815003314425 0.09001713130052184 69204 70148\n",
      "0.09001713130052184 0.14841315910257663 103823 104670\n",
      "0.14841315910257663 0.24469193226422048 112682 113287\n",
      "0.24469193226422048 0.4034287934927352 89030 89421\n",
      "0.4034287934927352 0.665141633044362 49488 49707\n",
      "0.665141633044362 1.096633158428459 19330 19405\n"
     ]
    }
   ],
   "source": [
    "\n",
    "## CUTS\n",
    "log = True\n",
    "# plt.figure()\n",
    "# mask_reco = allsd.reco_showers_E>15\n",
    "mask_delta = allsd.delta_MC>0.02\n",
    "mask_delta_1 = allsd.delta_MC>0\n",
    "# mask_R = allsd[\"R\"].values/1000<50\n",
    "# mask_dc_hits = allsd.cdc_hits>4\n",
    "\n",
    "mask_reco = allsd.reco_showers_E>15\n",
    "mask_dc_hits = allsd.cdc_hits>2\n",
    "mask_pt = allsd.true_showers_pt>1\n",
    "mask_gen_status = allsd.gen_status==1\n",
    "sd_hgb_ = allsd[mask_reco*mask_delta*mask_dc_hits*mask_gen_status]\n",
    "sd_hgb_mc = allsd[mask_reco*mask_dc_hits*mask_pt*mask_gen_status*mask_delta_1]\n",
    "print(len(allsd), len(sd_hgb_))\n",
    "all_particles_dc = create_eff_dic(sd_hgb_,sd_hgb_,sd_hgb_mc)\n",
    "\n",
    "\n",
    "\n",
    "## CUTS\n",
    "log = True\n",
    "# plt.figure()\n",
    "# mask_reco = allsd.reco_showers_E>15\n",
    "mask_delta = allsd1.delta_MC>0.02\n",
    "mask_delta_1 = allsd1.delta_MC>0\n",
    "# mask_R = allsd[\"R\"].values/1000<50\n",
    "# mask_dc_hits = allsd.cdc_hits>4\n",
    "\n",
    "mask_reco = allsd1.reco_showers_E>15\n",
    "mask_dc_hits = allsd1.cdc_hits>2\n",
    "mask_pt = allsd1.true_showers_pt>1\n",
    "mask_gen_status = allsd1.gen_status==1\n",
    "sd_hgb_ = allsd1[mask_reco*mask_delta*mask_dc_hits*mask_gen_status]\n",
    "sd_hgb_mc = allsd1[mask_reco*mask_dc_hits*mask_pt*mask_gen_status*mask_delta_1]\n",
    "print(len(allsd1), len(sd_hgb_))\n",
    "all_particles_dc1 = create_eff_dic(sd_hgb_,sd_hgb_,sd_hgb_mc)"
   ]
  },
  {
   "cell_type": "code",
   "execution_count": 25,
   "metadata": {},
   "outputs": [
    {
     "name": "stdout",
     "output_type": "stream",
     "text": [
      "0.0010000000000000002 0.0016487212707001285 283 288\n",
      "0.0016487212707001285 0.0027182818284590456 627 648\n",
      "0.0027182818284590456 0.004481689070338066 1058 1101\n",
      "0.004481689070338066 0.007389056098930652 2666 2763\n",
      "0.007389056098930652 0.012182493960703476 6656 6799\n",
      "0.012182493960703476 0.020085536923187673 17038 17345\n",
      "0.020085536923187673 0.03311545195869232 42462 42944\n",
      "0.03311545195869232 0.05459815003314425 94180 94895\n",
      "0.05459815003314425 0.09001713130052184 161782 162769\n",
      "0.09001713130052184 0.14841315910257663 198249 199245\n",
      "0.14841315910257663 0.24469193226422048 175477 176332\n",
      "0.24469193226422048 0.4034287934927352 111693 112029\n",
      "0.4034287934927352 0.665141633044362 45972 46103\n",
      "0.665141633044362 1.096633158428459 12475 12497\n"
     ]
    }
   ],
   "source": [
    "eff_dict_ct = create_eff_dic(reconstructable_ct,reco_R_ct,reco_delta_plot)\n",
    "# eff_dict_ct_all_p = create_eff_dic(reconstructable_ct_all_p,reco_R_ct,reco_delta_plot)"
   ]
  },
  {
   "cell_type": "code",
   "execution_count": 26,
   "metadata": {},
   "outputs": [
    {
     "name": "stdout",
     "output_type": "stream",
     "text": [
      "0.0010000000000000002 0.0016487212707001285 568 581\n",
      "0.0016487212707001285 0.0027182818284590456 1232 1274\n",
      "0.0027182818284590456 0.004481689070338066 2172 2254\n",
      "0.004481689070338066 0.007389056098930652 5177 5344\n",
      "0.007389056098930652 0.012182493960703476 13206 13520\n",
      "0.012182493960703476 0.020085536923187673 34278 34895\n",
      "0.020085536923187673 0.03311545195869232 84615 85588\n",
      "0.03311545195869232 0.05459815003314425 187874 189326\n",
      "0.05459815003314425 0.09001713130052184 322910 324798\n",
      "0.09001713130052184 0.14841315910257663 396907 398894\n",
      "0.14841315910257663 0.24469193226422048 351261 352870\n",
      "0.24469193226422048 0.4034287934927352 222319 223046\n",
      "0.4034287934927352 0.665141633044362 92581 92843\n",
      "0.665141633044362 1.096633158428459 25031 25068\n"
     ]
    }
   ],
   "source": [
    "eff_dict_ml = create_eff_dic(reconstructable_ml,reco_R_ml,reco_delta_plot_ml)\n",
    "# eff_dict_ml_all_p = create_eff_dic(reconstructable_ml_all_p,reco_R_ml,reco_delta_plot_ml)"
   ]
  },
  {
   "cell_type": "code",
   "execution_count": 13,
   "metadata": {},
   "outputs": [],
   "source": [
    "def limit_error_bars(y, yerr, upper_limit=1):\n",
    "    yerr_upper = np.minimum(y + yerr, upper_limit) - y\n",
    "    yerr_lower = yerr  # Lower error bars remain unchanged\n",
    "    return yerr_lower, yerr_upper\n"
   ]
  },
  {
   "cell_type": "code",
   "execution_count": 72,
   "metadata": {},
   "outputs": [],
   "source": [
    "# import seaborn\n",
    "# fig = plt.figure(figsize=(4,4))\n",
    "# axs = fig.add_subplot(111)\n",
    "# seaborn.histplot(sd_hgb_mc.delta_MC)\n",
    "# plt.xscale(\"log\")\n",
    "# axs.axvline(x=0.02, linestyle='--')"
   ]
  },
  {
   "cell_type": "code",
   "execution_count": 27,
   "metadata": {},
   "outputs": [
    {
     "data": {
      "image/png": "[encoded data removed]",
      "text/plain": [
       "<Figure size 400x400 with 1 Axes>"
      ]
     },
     "metadata": {},
     "output_type": "display_data"
    }
   ],
   "source": [
    "import matplotlib.pyplot as plt\n",
    "from matplotlib.lines import Line2D\n",
    "fig= plt.figure( figsize=(4, 4))\n",
    "ax = fig.add_subplot(111)\n",
    "colors_list = [\"#FF0000\", \"#FF0000\", \"#0000FF\"]\n",
    "index = 0\n",
    "j = 0\n",
    "colors = [\"r\", \"b\", \"g\", \"y\"]\n",
    "marker = [\"s\", \"o\", \"<\", \".\"]\n",
    "labels = [\"CLD Conformal Tracking\", \"GCLD GTF\", \"IDEA GGTF\", \"IDEA GGTF 2\"]\n",
    "dataframe_list = [eff_dict_ct,eff_dict_ml,   all_particles_dc, all_particles_dc1]\n",
    "i =0 \n",
    "log = True\n",
    "plt.xlabel(r\"$\\Delta_{MC}$ [rad]\")\n",
    "plt.ylabel(\"Tracking efficiency\")\n",
    "\n",
    "for i in range(0, len(dataframe_list)):\n",
    "    plt.scatter(\n",
    "        np.array(dataframe_list[i][\"delta_MC_values\"]),\n",
    "        np.array(dataframe_list[i][\"eff_delta_MC\"]),\n",
    "        label=labels[i] ,\n",
    "        marker=marker[i],\n",
    "        c = [colors[i] for j in range(0,len(dataframe_list[i][\"eff_delta_MC\"]))],\n",
    "        s=30,\n",
    "    )\n",
    "    error_y = dataframe_list[i][\"errors_delta_mc\"]\n",
    "    yerr_lower, yerr_upper = limit_error_bars(np.array(dataframe_list[i][\"eff_delta_MC\"]), np.array(error_y)/2, upper_limit=1)\n",
    "    plt.errorbar(dataframe_list[i][\"delta_MC_values\"], dataframe_list[i][\"eff_delta_MC\"] ,yerr= [yerr_lower, yerr_upper], ecolor=colors[i], linestyle='none', capsize=4)\n",
    "\n",
    "\n",
    "# plt.title(\"CLD\")\n",
    "plt.legend(loc=\"lower right\") #title=r'$Z/\\gamma^* \\rightarrow q \\bar q (q=u,d)$' \"\\n\" r'$10< \\theta< 170$,' \"\\n\" r\"$p_T>1 \\textrm{ GeV}, \\textrm{vertex } R>50 \\textrm{ mm}$\")\n",
    "plt.xscale(\"log\")\n",
    "# ax.xaxis.set_major_locator(plt.LogLocator(base=10.0, numticks=4))\n",
    "# ax.xaxis.set_minor_locator(plt.LogLocator(base=10.0, subs='auto', numticks=10))\n",
    "# ax.yaxis.set_major_locator(plt.MultipleLocator(0.1))\n",
    "# ax.yaxis.set_minor_locator(plt.MultipleLocator(0.1))\n",
    "# ax.grid(which='major', linestyle=':', linewidth='0.5', color='black')\n",
    "# ax.grid(which='minor', linestyle=':', linewidth='0.5', color='gray')\n",
    "plt.grid(True)\n",
    "plt.rc(\"text\", usetex=True)\n",
    "plt.rc(\"font\", family=\"serif\")\n",
    "plt.xlim([5*1e-3,1.5])\n",
    "plt.ylim([0.75,1.01])\n",
    "ax.axvline(x=0.1, linestyle='--')\n",
    "size_font=10\n",
    "plt.rcParams['text.usetex'] = True\n",
    "plt.rcParams['font.size'] = size_font\n",
    "plt.rcParams['axes.labelsize'] = size_font\n",
    "plt.rcParams['xtick.labelsize'] = size_font\n",
    "plt.rcParams['ytick.labelsize'] = size_font\n",
    "plt.rcParams['legend.fontsize'] = 10\n",
    "leg = ax.get_legend()\n",
    "leg._legend_box.align = \"left\""
   ]
  },
  {
   "cell_type": "code",
   "execution_count": 22,
   "metadata": {},
   "outputs": [
    {
     "data": {
      "image/png": "[encoded data removed]",
      "text/plain": [
       "<Figure size 400x400 with 1 Axes>"
      ]
     },
     "metadata": {},
     "output_type": "display_data"
    }
   ],
   "source": [
    "def limit_error_bars(y, yerr, upper_limit=1):\n",
    "    yerr_upper = np.minimum(y + yerr, upper_limit) - y\n",
    "    yerr_lower = yerr  # Lower error bars remain unchanged\n",
    "    return yerr_lower, yerr_upper\n",
    "fig= plt.figure( figsize=(4, 4))\n",
    "axs = fig.add_subplot(111)\n",
    "colors_list = [\"#FF0000\", \"#FF0000\", \"#0000FF\"]\n",
    "index = 0\n",
    "j = 0\n",
    "colors = [\"r\", \"b\", \"g\"]\n",
    "marker = [\"s\", \"o\", \"<\"]\n",
    "labels = [\"CLD Conformal Tracking\", \"CLD GGTF\", \"IDEA GGTF\"]\n",
    "dataframe_list = [eff_dict_ct, eff_dict_ml, all_particles_dc]\n",
    "i =0 \n",
    "plot_title =\"\"\n",
    "log = True\n",
    "plt.xlabel(\"$p_T$ [GeV]\")\n",
    "plt.ylabel(\"Tracking efficiency\")\n",
    "\n",
    "for i in range(0, len(dataframe_list)):\n",
    "    axs.scatter(\n",
    "        dataframe_list[i][\"energy_eff\"],\n",
    "        dataframe_list[i][\"eff\"],\n",
    "        label=labels[i] ,\n",
    "        marker=marker[i],\n",
    "        c = [colors[i] for j in range(0,len(dataframe_list[i][\"eff\"]))],\n",
    "        s=30,\n",
    "    )\n",
    "    error_y = dataframe_list[i][\"errors\"]\n",
    "    yerr_lower, yerr_upper = limit_error_bars(np.array(dataframe_list[i][\"eff\"]), np.array(error_y)/2, upper_limit=1)\n",
    "    plt.errorbar(dataframe_list[i][\"energy_eff\"], dataframe_list[i][\"eff\"] ,yerr= [yerr_lower, yerr_upper], ecolor=colors[i], linestyle='none', capsize=4)\n",
    "\n",
    "    # axs.errorbar(dataframe_list[i][\"energy_eff\"], dataframe_list[i][\"eff\"] , xerr=dataframe_list[i][\"size_energy_bin\"]/2,yerr= dataframe_list[i][\"errors\"], linestyle='none')\n",
    "\n",
    "if log:\n",
    "    log_ = \"log\"\n",
    "    axs.set_xscale(\"log\")\n",
    "else:\n",
    "    log_ = \"\"\n",
    "axs.set_ylim([0.7, 1.01])\n",
    "# axs.legend(loc=\"lower left\")\n",
    "\n",
    "# axs.axvline(x=0.7, linestyle='--')\n",
    "\n",
    "plt.legend(loc=\"lower right\") #title=r'$Z/\\gamma^* \\rightarrow q \\bar q (q=u,d)$' \"\\n\" r\"$\\Delta_{MC}>0.02 \\textrm{ rad}$\")\n",
    "\n",
    "axs.xaxis.set_major_locator(plt.LogLocator(base=10.0, numticks=4))\n",
    "axs.xaxis.set_minor_locator(plt.LogLocator(base=10.0, subs='auto', numticks=10))\n",
    "axs.yaxis.set_major_locator(plt.MultipleLocator(0.1))\n",
    "axs.yaxis.set_minor_locator(plt.MultipleLocator(0.1))\n",
    "axs.grid(which='major', linestyle=':', linewidth='0.5', color='black')\n",
    "axs.grid(which='minor', linestyle=':', linewidth='0.5', color='gray')\n",
    "plt.xlim([1e-1,50])\n",
    "plt.ylim([0.8,1.01])\n",
    "plt.rc(\"text\", usetex=True)\n",
    "plt.rc(\"font\", family=\"serif\")\n",
    "size_font = 25\n",
    "plt.rcParams['font.size'] = size_font\n",
    "plt.rcParams['axes.labelsize'] = size_font\n",
    "plt.rcParams['xtick.labelsize'] = size_font\n",
    "plt.rcParams['ytick.labelsize'] = size_font\n",
    "plt.rcParams['legend.fontsize'] = 10\n",
    "\n",
    "# leg._legend_box.align = \"right\""
   ]
  },
  {
   "cell_type": "code",
   "execution_count": 48,
   "metadata": {},
   "outputs": [
    {
     "data": {
      "text/plain": [
       "(39, 39)"
      ]
     },
     "execution_count": 48,
     "metadata": {},
     "output_type": "execute_result"
    }
   ],
   "source": [
    "len(dataframe_list[1][\"errors_delta_mc\"]),len(dataframe_list[1][\"eff_delta_MC\"])"
   ]
  },
  {
   "cell_type": "code",
   "execution_count": 5,
   "metadata": {},
   "outputs": [],
   "source": [
    "\n",
    "def create_eff_dic(matched_, reco_r,reco_delta):\n",
    "    df_id = matched_\n",
    "    photons_dic = calculate_eff(df_id)\n",
    "    photons_dic = calculate_eff_vertex(reco_r,photons_dic)\n",
    "    photons_dic = calculate_eff_DeltaMC(reco_delta,photons_dic)\n",
    "    return photons_dic\n",
    "\n",
    "\n",
    "def calculate_eff(sd, log_scale=False):\n",
    "    # if log_scale:\n",
    "    bins = np.exp(np.arange(np.log(1e-1), np.log(50), 0.1))\n",
    "    # else:\n",
    "    #     bins = np.arange(0, 51, 2)\n",
    "    #bins = [5e-3,0.1,1.80804241e-01,2.98095799e-01, 4.91476884e-01, 8.10308393e-01, 1.33597268e+00,2.20264658e+00, 3.63155027e+00, 5.98741417e+00, 9.87157710e+00,1.62754791e+01, 2.68337287e+01, 4.42413392e+01]\n",
    "    bins = np.array(bins)\n",
    "    eff = []\n",
    "    eff_50 = []\n",
    "    eff_75 = []\n",
    "    energy_eff = []\n",
    "    size_energy_bin = []\n",
    "    errors = []\n",
    "    number_of_hits = []\n",
    "    number_of_hits_var = []\n",
    "    total_showers_ = []\n",
    "    purity = []\n",
    "    purity_var = []\n",
    "    number_of_hits_unique = []\n",
    "    number_of_hits_var_unique = []\n",
    "    for i in range(len(bins) - 1):\n",
    "        bin_i = bins[i]\n",
    "        bin_i1 = bins[i + 1]\n",
    "        mask_above = sd.true_showers_pt.values <= bin_i1\n",
    "        mask_below = sd.true_showers_pt.values > bin_i\n",
    "        # this mask takes all E that have values (does not include fakes then)\n",
    "        mask = mask_below * mask_above\n",
    "        number_of_non_reconstructed_showers = np.sum(\n",
    "            np.isnan(sd.pred_showers_E.values)[mask]\n",
    "        )\n",
    "        mask_non_nan = ~np.isnan(sd.e_pred_and_truth.values)\n",
    "        total_showers = len(sd.pred_showers_E.values[mask])\n",
    "        if total_showers > 0:\n",
    "            #total_reconstructed_cld_crit = np.sum(sd[\"e_pred_and_truth\"][mask].values>3)\n",
    "            particle_purity = sd[\"e_pred_and_truth\"][mask].values/sd[\"reco_showers_E\"][mask].values\n",
    "            track_purity = sd[\"e_pred_and_truth\"][mask].values/sd[\"pred_showers_E\"][mask].values\n",
    "            more_than_4_hits = sd[\"pred_showers_E\"][mask].values>3\n",
    "            total_reconstructed_cld_crit = np.sum(sd[\"e_pred_and_truth\"][mask].values>5)\n",
    "            # total_reconstructed_cld_crit =  np.sum((track_purity>=0.75)*more_than_4_hits)\n",
    "            total_reconstructed_cld_crit =  np.sum((particle_purity>=0.4)*(track_purity>=0.4)*more_than_4_hits)\n",
    "      \n",
    "\n",
    "            # print(total_reconstructed_cld_crit,total_showers )\n",
    "            percentage_of_hits_MC = sd[\"e_pred_and_truth\"][mask*mask_non_nan].values/sd[\"reco_showers_E\"][mask*mask_non_nan].values\n",
    "            percentage_of_hits_MC_unique = sd[\"number_unique_hits_reconstructed\"][mask*mask_non_nan].values/sd[\"number_unique_hits\"][mask*mask_non_nan].values\n",
    "            purity_list =  sd[\"e_pred_and_truth\"][mask*mask_non_nan].values/sd[\"pred_showers_E\"][mask*mask_non_nan].values\n",
    "            n_t_purity =  sd[\"e_pred_and_truth\"][mask*mask_non_nan].values\n",
    "            n_f = sd[\"pred_showers_E\"][mask*mask_non_nan].values-n_t_purity\n",
    "            sigma_t_purity = np.var(n_t_purity)\n",
    "            sigma_f_purity = np.var(n_f)\n",
    "            error_purity = (n_f/(n_t_purity+n_f)**2*sigma_t_purity)**2+(n_t_purity*sigma_f_purity/(n_t_purity+n_f)**2)**2\n",
    "            N = len(error_purity)\n",
    "            purity.append(np.mean(purity_list))\n",
    "            purity_var.append(1/N*(np.sqrt(np.sum(error_purity))))\n",
    "            number_of_hits.append(np.mean(percentage_of_hits_MC))\n",
    "            number_of_hits_unique.append(np.mean(percentage_of_hits_MC_unique))\n",
    "\n",
    "            n_r = sd[\"e_pred_and_truth\"][mask*mask_non_nan].values\n",
    "            n_t = sd[\"reco_showers_E\"][mask*mask_non_nan].values\n",
    "            error_percentage_of_hits = (n_r/(n_t**2)*np.sqrt(n_t))**2+(1/n_t*np.sqrt(n_r))**2\n",
    "            N = len(error_percentage_of_hits)\n",
    "            number_of_hits_var.append(1/N*np.sqrt(np.sum(error_percentage_of_hits)))\n",
    "\n",
    "            n_r = sd[\"number_unique_hits_reconstructed\"][mask*mask_non_nan].values\n",
    "            n_t = sd[\"number_unique_hits\"][mask*mask_non_nan].values\n",
    "            N = len(error_percentage_of_hits)\n",
    "            error_percentage_of_hits_unique = (n_r/(n_t**2)*np.sqrt(n_t))**2+(1/n_t*np.sqrt(n_r))**2\n",
    "            number_of_hits_var_unique.append(1/N*np.sqrt(np.sum(error_percentage_of_hits_unique)))\n",
    "            total_reconstructed_50 = np.sum(percentage_of_hits_MC>0.50)\n",
    "            total_reconstructed_75 = np.sum(percentage_of_hits_MC>0.75)\n",
    "            eff.append(\n",
    "                (total_reconstructed_cld_crit) / total_showers\n",
    "            )\n",
    "            eff_50.append(total_reconstructed_50/total_showers)\n",
    "            eff_75.append(total_reconstructed_75/total_showers)\n",
    "            energy_eff.append((bin_i1 + bin_i) / 2)\n",
    "            size_energy_bin.append((bin_i1-bin_i)/2)\n",
    "            total_showers_.append(total_showers)\n",
    "            n_total = total_showers\n",
    "            n_r = total_reconstructed_cld_crit\n",
    "            error = (n_r/(n_total**2)*np.sqrt(n_total))**2+(1/n_total*np.sqrt(n_r))**2\n",
    "            error = np.sqrt(error)\n",
    "            errors.append(error)\n",
    "        # print(\n",
    "        #     \"bin\",\n",
    "        #     bin_i1,\n",
    "        #     bin_i,\n",
    "        #     (total_showers - number_of_non_reconstructed_showers) / total_showers,\n",
    "        #     total_showers,\n",
    "        #     (total_showers - number_of_non_reconstructed_showers),\n",
    "        #     error\n",
    "        # )\n",
    "    photons_dic = {}\n",
    "    photons_dic[\"purity\"]= purity\n",
    "    photons_dic[\"number_of_hits_unique\"]= number_of_hits_unique\n",
    "    photons_dic[\"purity_var\"]=purity_var\n",
    "    # photons_dic[\"eff_50\"] = eff_50\n",
    "    # photons_dic[\"eff_75\"] = eff_75\n",
    "    photons_dic[\"eff\"] = eff\n",
    "    photons_dic[\"number_of_hits\"]=number_of_hits\n",
    "    photons_dic[\"number_of_hits_var\"]= number_of_hits_var\n",
    "    photons_dic[\"number_of_hits_var_unique\"] = number_of_hits_var_unique\n",
    "    photons_dic[\"energy_eff\"] = energy_eff\n",
    "    photons_dic[\"total_showers_\"] = total_showers_\n",
    "    photons_dic[\"size_energy_bin\"] = size_energy_bin\n",
    "    photons_dic[\"errors\"] = errors\n",
    "    return photons_dic\n"
   ]
  },
  {
   "cell_type": "code",
   "execution_count": 6,
   "metadata": {},
   "outputs": [
    {
     "data": {
      "text/plain": [
       "8.109614455994183"
      ]
     },
     "execution_count": 6,
     "metadata": {},
     "output_type": "execute_result"
    }
   ],
   "source": [
    "np.arccos(0.99)/np.pi*180"
   ]
  },
  {
   "cell_type": "code",
   "execution_count": 7,
   "metadata": {},
   "outputs": [],
   "source": [
    "def calculate_eff_vertex(sd,photons_dic):\n",
    "    # if log_scale:\n",
    "   \n",
    "    # else:\n",
    "    bins = np.arange(0, 1000, 20)\n",
    "    bins = np.array(bins)\n",
    "    eff_v = []\n",
    "    energy_v = []\n",
    "    errors_v = []\n",
    "    for i in range(len(bins) - 1):\n",
    "        bin_i = bins[i]\n",
    "        bin_i1 = bins[i + 1]\n",
    "        mask_above = (sd.R.values*1000) <= bin_i1\n",
    "        mask_below = (sd.R.values*1000) > bin_i\n",
    "        mask = mask_below * mask_above\n",
    "\n",
    "        total_showers = len(sd.pred_showers_E.values[mask])\n",
    "        if total_showers > 0:\n",
    "            # purity_calc = sd[\"e_pred_and_truth\"][mask].values/sd[\"pred_showers_E\"][mask].values\n",
    "            # more_than_4_hits = sd[\"pred_showers_E\"][mask].values>3\n",
    "            # total_reconstructed_cld_crit =  np.sum((purity_calc>=0.75)*more_than_4_hits)\n",
    "            total_reconstructed_cld_crit = np.sum(sd[\"e_pred_and_truth\"][mask].values>3)\n",
    "            # particle_purity = sd[\"e_pred_and_truth\"][mask].values/sd[\"reco_showers_E\"][mask].values\n",
    "            # track_purity = sd[\"e_pred_and_truth\"][mask].values/sd[\"pred_showers_E\"][mask].values\n",
    "            # more_than_4_hits = sd[\"pred_showers_E\"][mask].values>3\n",
    "            #total_reconstructed_cld_crit =  np.sum((purity_calc>=0.75)*more_than_4_hits)\n",
    "            # total_reconstructed_cld_crit =  np.sum((particle_purity>=0.5)*(track_purity>=0.5)*more_than_4_hits)\n",
    "            eff_v.append(\n",
    "                (total_reconstructed_cld_crit) / total_showers\n",
    "            )\n",
    "            energy_v.append((bin_i1 + bin_i) / 2)\n",
    "        \n",
    "            n_total = total_showers\n",
    "            n_r = total_reconstructed_cld_crit\n",
    "            error = (n_r/(n_total**2)*np.sqrt(n_total))**2+(1/n_total*np.sqrt(n_r))**2\n",
    "            error = np.sqrt(error)\n",
    "            errors_v.append(error)\n",
    "\n",
    "    photons_dic[\"eff_v\"]= eff_v\n",
    "    photons_dic[\"energy_v\"]=energy_v\n",
    "    photons_dic[\"errors_v\"] =errors_v\n",
    "\n",
    "    return photons_dic\n"
   ]
  },
  {
   "cell_type": "code",
   "execution_count": 8,
   "metadata": {},
   "outputs": [
    {
     "data": {
      "text/plain": [
       "array([0.001     , 0.00164872, 0.00271828, 0.00448169, 0.00738906,\n",
       "       0.01218249, 0.02008554, 0.03311545, 0.05459815, 0.09001713,\n",
       "       0.14841316, 0.24469193, 0.40342879])"
      ]
     },
     "execution_count": 8,
     "metadata": {},
     "output_type": "execute_result"
    }
   ],
   "source": [
    " np.exp(np.arange(np.log(1e-3), np.log(0.5), 0.5))"
   ]
  },
  {
   "cell_type": "code",
   "execution_count": 9,
   "metadata": {},
   "outputs": [],
   "source": [
    "\n",
    "def calculate_eff_DeltaMC(sd, photons, dictlog_scale=False):\n",
    "    \n",
    "    bins = np.arange(0.001, 0.4,0.01)\n",
    "    bins = np.exp(np.arange(np.log(1e-3), np.log(1.5), 0.5))\n",
    "    eff = []\n",
    "    energy_eff = []\n",
    "    total_showers_ = []\n",
    "    errors_delta_mc = []\n",
    "    for i in range(len(bins) - 1):\n",
    "        bin_i = bins[i]\n",
    "        bin_i1 = bins[i + 1]\n",
    "        mask_above = sd.delta_MC.values <= bin_i1\n",
    "        mask_below = sd.delta_MC.values > bin_i\n",
    "        mask = mask_below * mask_above\n",
    "        number_of_non_reconstructed_showers = np.sum(\n",
    "            np.isnan(sd.pred_showers_E.values)[mask]\n",
    "        )\n",
    "        total_showers = len(sd.pred_showers_E.values[mask])\n",
    "        if total_showers > 0:\n",
    "            # purity_calc = sd[\"e_pred_and_truth\"][mask].values/sd[\"pred_showers_E\"][mask].values\n",
    "            # more_than_4_hits = sd[\"pred_showers_E\"][mask].values>3\n",
    "            # total_reconstructed_cld_crit =  np.sum((purity_calc>=0.75)*more_than_4_hits)\n",
    "            total_reconstructed_cld_crit = np.sum(sd[\"e_pred_and_truth\"][mask].values>3)\n",
    "            # particle_purity = sd[\"e_pred_and_truth\"][mask].values/sd[\"reco_showers_E\"][mask].values\n",
    "            # track_purity = sd[\"e_pred_and_truth\"][mask].values/sd[\"pred_showers_E\"][mask].values\n",
    "            # more_than_4_hits = sd[\"pred_showers_E\"][mask].values>3\n",
    "            # total_reconstructed_cld_crit =  np.sum((particle_purity>=0.5)*(track_purity>=0.5)*more_than_4_hits)\n",
    "            print(bin_i, bin_i1, total_reconstructed_cld_crit, total_showers)\n",
    "            eff.append(\n",
    "                (total_reconstructed_cld_crit) / total_showers\n",
    "            )\n",
    "            energy_eff.append((bin_i1 + bin_i) / 2)\n",
    "            total_showers_.append(total_showers)\n",
    "            n_total = total_showers\n",
    "            n_r = total_reconstructed_cld_crit\n",
    "            error = (n_r/(n_total**2)*np.sqrt(n_total))**2+(1/n_total*np.sqrt(n_r))**2\n",
    "            error = np.sqrt(error)\n",
    "            errors_delta_mc.append(error)\n",
    "    photons[\"eff_delta_MC\"]= eff\n",
    "    photons[\"delta_MC_values\"]=energy_eff\n",
    "    photons[\"errors_delta_mc\"]=errors_delta_mc\n",
    "    return photons"
   ]
  },
  {
   "cell_type": "code",
   "execution_count": null,
   "metadata": {},
   "outputs": [],
   "source": []
  },
  {
   "cell_type": "code",
   "execution_count": null,
   "metadata": {},
   "outputs": [],
   "source": []
  }
 ],
 "metadata": {
  "kernelspec": {
   "display_name": "Python 3.10.11 ('graphgps': conda)",
   "language": "python",
   "name": "python3"
  },
  "language_info": {
   "codemirror_mode": {
    "name": "ipython",
    "version": 3
   },
   "file_extension": ".py",
   "mimetype": "text/x-python",
   "name": "python",
   "nbconvert_exporter": "python",
   "pygments_lexer": "ipython3",
   "version": "3.10.12"
  },
  "orig_nbformat": 4,
  "vscode": {
   "interpreter": {
    "hash": "f1db199df8f75d900d458855decbcf5956490222a21736f6416c2999d256400d"
   }
  }
 },
 "nbformat": 4,
 "nbformat_minor": 2
}
