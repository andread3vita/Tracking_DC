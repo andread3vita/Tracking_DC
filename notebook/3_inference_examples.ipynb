{
 "cells": [
  {
   "cell_type": "code",
   "execution_count": 2,
   "metadata": {},
   "outputs": [],
   "source": [
    "import gzip\n",
    "import pickle \n",
    "import mplhep as hep\n",
    "hep.style.use(\"CMS\")\n",
    "import matplotlib\n",
    "matplotlib.rc('font', size=15)\n",
    "import numpy as np\n",
    "import torch \n",
    "import dgl\n",
    "import pandas as pd\n",
    "import numpy as np\n",
    "import plotly.express as px\n",
    "sys.path.append(\"/afs/cern.ch/work/m/mgarciam/private/Tracking_wcoc/\")\n",
    "from sklearn.cluster import DBSCAN, HDBSCAN\n",
    "from torch_scatter import scatter_max, scatter_add, scatter_mean\n",
    "from scipy.optimize import linear_sum_assignment\n",
    "import numpy as np\n",
    "import matplotlib.pyplot as plt"
   ]
  },
  {
   "cell_type": "code",
   "execution_count": 15,
   "metadata": {},
   "outputs": [],
   "source": [
    "dic = torch.load(\"/eos/user/m/mgarciam/EVAL_REPOS/Tracking_wcoc/models/090824/graphs/2.pt\", map_location='cpu')\n"
   ]
  },
  {
   "cell_type": "code",
   "execution_count": 39,
   "metadata": {},
   "outputs": [
    {
     "data": {
      "text/plain": [
       "tensor([1., 2.])"
      ]
     },
     "execution_count": 39,
     "metadata": {},
     "output_type": "execute_result"
    }
   ],
   "source": [
    "from src.layers.inference_oc_tracks import hfdb_obtain_labels, get_clustering\n",
    "from sklearn.cluster import DBSCAN, HDBSCAN\n",
    "g= dgl.unbatch(dic[\"graph\"])[3]\n",
    "betas = torch.sigmoid(g.ndata[\"model_output\"][:,3])\n",
    "X = g.ndata[\"model_output\"][:,0:3]\n",
    "clustering1 = get_clustering(betas, X, tbeta=0.6, td=0.2)\n",
    "hdb = DBSCAN(min_samples=8, eps=0.1).fit(\n",
    "        X.detach().cpu()\n",
    "    )\n",
    "torch.unique(g.ndata[\"particle_number\"])"
   ]
  },
  {
   "cell_type": "code",
   "execution_count": 40,
   "metadata": {},
   "outputs": [
    {
     "data": {
      "text/plain": [
       "array([ 0,  0,  0,  0,  0,  0,  0,  0,  0,  0,  0,  0,  0,  0,  0,  0,  0,\n",
       "        0,  0,  0,  0,  0,  0,  0,  0,  0,  0,  0,  0,  0,  0,  0,  0,  0,\n",
       "        0,  0,  1,  1,  1,  1,  1,  1,  1,  1,  1,  1,  2,  2,  2,  2,  2,\n",
       "        2,  2,  2,  2,  2,  2,  2,  2,  2, -1,  3,  3,  3,  3,  3,  3,  3,\n",
       "        3,  3,  3,  3,  3, -1, -1, -1,  3,  3])"
      ]
     },
     "execution_count": 40,
     "metadata": {},
     "output_type": "execute_result"
    }
   ],
   "source": [
    "hdb.labels_"
   ]
  },
  {
   "cell_type": "code",
   "execution_count": 20,
   "metadata": {},
   "outputs": [
    {
     "data": {
      "text/html": [
       "<style>#sk-container-id-1 {\n",
       "  /* Definition of color scheme common for light and dark mode */\n",
       "  --sklearn-color-text: black;\n",
       "  --sklearn-color-line: gray;\n",
       "  /* Definition of color scheme for unfitted estimators */\n",
       "  --sklearn-color-unfitted-level-0: #fff5e6;\n",
       "  --sklearn-color-unfitted-level-1: #f6e4d2;\n",
       "  --sklearn-color-unfitted-level-2: #ffe0b3;\n",
       "  --sklearn-color-unfitted-level-3: chocolate;\n",
       "  /* Definition of color scheme for fitted estimators */\n",
       "  --sklearn-color-fitted-level-0: #f0f8ff;\n",
       "  --sklearn-color-fitted-level-1: #d4ebff;\n",
       "  --sklearn-color-fitted-level-2: #b3dbfd;\n",
       "  --sklearn-color-fitted-level-3: cornflowerblue;\n",
       "\n",
       "  /* Specific color for light theme */\n",
       "  --sklearn-color-text-on-default-background: var(--sg-text-color, var(--theme-code-foreground, var(--jp-content-font-color1, black)));\n",
       "  --sklearn-color-background: var(--sg-background-color, var(--theme-background, var(--jp-layout-color0, white)));\n",
       "  --sklearn-color-border-box: var(--sg-text-color, var(--theme-code-foreground, var(--jp-content-font-color1, black)));\n",
       "  --sklearn-color-icon: #696969;\n",
       "\n",
       "  @media (prefers-color-scheme: dark) {\n",
       "    /* Redefinition of color scheme for dark theme */\n",
       "    --sklearn-color-text-on-default-background: var(--sg-text-color, var(--theme-code-foreground, var(--jp-content-font-color1, white)));\n",
       "    --sklearn-color-background: var(--sg-background-color, var(--theme-background, var(--jp-layout-color0, #111)));\n",
       "    --sklearn-color-border-box: var(--sg-text-color, var(--theme-code-foreground, var(--jp-content-font-color1, white)));\n",
       "    --sklearn-color-icon: #878787;\n",
       "  }\n",
       "}\n",
       "\n",
       "#sk-container-id-1 {\n",
       "  color: var(--sklearn-color-text);\n",
       "}\n",
       "\n",
       "#sk-container-id-1 pre {\n",
       "  padding: 0;\n",
       "}\n",
       "\n",
       "#sk-container-id-1 input.sk-hidden--visually {\n",
       "  border: 0;\n",
       "  clip: rect(1px 1px 1px 1px);\n",
       "  clip: rect(1px, 1px, 1px, 1px);\n",
       "  height: 1px;\n",
       "  margin: -1px;\n",
       "  overflow: hidden;\n",
       "  padding: 0;\n",
       "  position: absolute;\n",
       "  width: 1px;\n",
       "}\n",
       "\n",
       "#sk-container-id-1 div.sk-dashed-wrapped {\n",
       "  border: 1px dashed var(--sklearn-color-line);\n",
       "  margin: 0 0.4em 0.5em 0.4em;\n",
       "  box-sizing: border-box;\n",
       "  padding-bottom: 0.4em;\n",
       "  background-color: var(--sklearn-color-background);\n",
       "}\n",
       "\n",
       "#sk-container-id-1 div.sk-container {\n",
       "  /* jupyter's `normalize.less` sets `[hidden] { display: none; }`\n",
       "     but bootstrap.min.css set `[hidden] { display: none !important; }`\n",
       "     so we also need the `!important` here to be able to override the\n",
       "     default hidden behavior on the sphinx rendered scikit-learn.org.\n",
       "     See: https://github.com/scikit-learn/scikit-learn/issues/21755 */\n",
       "  display: inline-block !important;\n",
       "  position: relative;\n",
       "}\n",
       "\n",
       "#sk-container-id-1 div.sk-text-repr-fallback {\n",
       "  display: none;\n",
       "}\n",
       "\n",
       "div.sk-parallel-item,\n",
       "div.sk-serial,\n",
       "div.sk-item {\n",
       "  /* draw centered vertical line to link estimators */\n",
       "  background-image: linear-gradient(var(--sklearn-color-text-on-default-background), var(--sklearn-color-text-on-default-background));\n",
       "  background-size: 2px 100%;\n",
       "  background-repeat: no-repeat;\n",
       "  background-position: center center;\n",
       "}\n",
       "\n",
       "/* Parallel-specific style estimator block */\n",
       "\n",
       "#sk-container-id-1 div.sk-parallel-item::after {\n",
       "  content: \"\";\n",
       "  width: 100%;\n",
       "  border-bottom: 2px solid var(--sklearn-color-text-on-default-background);\n",
       "  flex-grow: 1;\n",
       "}\n",
       "\n",
       "#sk-container-id-1 div.sk-parallel {\n",
       "  display: flex;\n",
       "  align-items: stretch;\n",
       "  justify-content: center;\n",
       "  background-color: var(--sklearn-color-background);\n",
       "  position: relative;\n",
       "}\n",
       "\n",
       "#sk-container-id-1 div.sk-parallel-item {\n",
       "  display: flex;\n",
       "  flex-direction: column;\n",
       "}\n",
       "\n",
       "#sk-container-id-1 div.sk-parallel-item:first-child::after {\n",
       "  align-self: flex-end;\n",
       "  width: 50%;\n",
       "}\n",
       "\n",
       "#sk-container-id-1 div.sk-parallel-item:last-child::after {\n",
       "  align-self: flex-start;\n",
       "  width: 50%;\n",
       "}\n",
       "\n",
       "#sk-container-id-1 div.sk-parallel-item:only-child::after {\n",
       "  width: 0;\n",
       "}\n",
       "\n",
       "/* Serial-specific style estimator block */\n",
       "\n",
       "#sk-container-id-1 div.sk-serial {\n",
       "  display: flex;\n",
       "  flex-direction: column;\n",
       "  align-items: center;\n",
       "  background-color: var(--sklearn-color-background);\n",
       "  padding-right: 1em;\n",
       "  padding-left: 1em;\n",
       "}\n",
       "\n",
       "\n",
       "/* Toggleable style: style used for estimator/Pipeline/ColumnTransformer box that is\n",
       "clickable and can be expanded/collapsed.\n",
       "- Pipeline and ColumnTransformer use this feature and define the default style\n",
       "- Estimators will overwrite some part of the style using the `sk-estimator` class\n",
       "*/\n",
       "\n",
       "/* Pipeline and ColumnTransformer style (default) */\n",
       "\n",
       "#sk-container-id-1 div.sk-toggleable {\n",
       "  /* Default theme specific background. It is overwritten whether we have a\n",
       "  specific estimator or a Pipeline/ColumnTransformer */\n",
       "  background-color: var(--sklearn-color-background);\n",
       "}\n",
       "\n",
       "/* Toggleable label */\n",
       "#sk-container-id-1 label.sk-toggleable__label {\n",
       "  cursor: pointer;\n",
       "  display: block;\n",
       "  width: 100%;\n",
       "  margin-bottom: 0;\n",
       "  padding: 0.5em;\n",
       "  box-sizing: border-box;\n",
       "  text-align: center;\n",
       "}\n",
       "\n",
       "#sk-container-id-1 label.sk-toggleable__label-arrow:before {\n",
       "  /* Arrow on the left of the label */\n",
       "  content: \"▸\";\n",
       "  float: left;\n",
       "  margin-right: 0.25em;\n",
       "  color: var(--sklearn-color-icon);\n",
       "}\n",
       "\n",
       "#sk-container-id-1 label.sk-toggleable__label-arrow:hover:before {\n",
       "  color: var(--sklearn-color-text);\n",
       "}\n",
       "\n",
       "/* Toggleable content - dropdown */\n",
       "\n",
       "#sk-container-id-1 div.sk-toggleable__content {\n",
       "  max-height: 0;\n",
       "  max-width: 0;\n",
       "  overflow: hidden;\n",
       "  text-align: left;\n",
       "  /* unfitted */\n",
       "  background-color: var(--sklearn-color-unfitted-level-0);\n",
       "}\n",
       "\n",
       "#sk-container-id-1 div.sk-toggleable__content.fitted {\n",
       "  /* fitted */\n",
       "  background-color: var(--sklearn-color-fitted-level-0);\n",
       "}\n",
       "\n",
       "#sk-container-id-1 div.sk-toggleable__content pre {\n",
       "  margin: 0.2em;\n",
       "  border-radius: 0.25em;\n",
       "  color: var(--sklearn-color-text);\n",
       "  /* unfitted */\n",
       "  background-color: var(--sklearn-color-unfitted-level-0);\n",
       "}\n",
       "\n",
       "#sk-container-id-1 div.sk-toggleable__content.fitted pre {\n",
       "  /* unfitted */\n",
       "  background-color: var(--sklearn-color-fitted-level-0);\n",
       "}\n",
       "\n",
       "#sk-container-id-1 input.sk-toggleable__control:checked~div.sk-toggleable__content {\n",
       "  /* Expand drop-down */\n",
       "  max-height: 200px;\n",
       "  max-width: 100%;\n",
       "  overflow: auto;\n",
       "}\n",
       "\n",
       "#sk-container-id-1 input.sk-toggleable__control:checked~label.sk-toggleable__label-arrow:before {\n",
       "  content: \"▾\";\n",
       "}\n",
       "\n",
       "/* Pipeline/ColumnTransformer-specific style */\n",
       "\n",
       "#sk-container-id-1 div.sk-label input.sk-toggleable__control:checked~label.sk-toggleable__label {\n",
       "  color: var(--sklearn-color-text);\n",
       "  background-color: var(--sklearn-color-unfitted-level-2);\n",
       "}\n",
       "\n",
       "#sk-container-id-1 div.sk-label.fitted input.sk-toggleable__control:checked~label.sk-toggleable__label {\n",
       "  background-color: var(--sklearn-color-fitted-level-2);\n",
       "}\n",
       "\n",
       "/* Estimator-specific style */\n",
       "\n",
       "/* Colorize estimator box */\n",
       "#sk-container-id-1 div.sk-estimator input.sk-toggleable__control:checked~label.sk-toggleable__label {\n",
       "  /* unfitted */\n",
       "  background-color: var(--sklearn-color-unfitted-level-2);\n",
       "}\n",
       "\n",
       "#sk-container-id-1 div.sk-estimator.fitted input.sk-toggleable__control:checked~label.sk-toggleable__label {\n",
       "  /* fitted */\n",
       "  background-color: var(--sklearn-color-fitted-level-2);\n",
       "}\n",
       "\n",
       "#sk-container-id-1 div.sk-label label.sk-toggleable__label,\n",
       "#sk-container-id-1 div.sk-label label {\n",
       "  /* The background is the default theme color */\n",
       "  color: var(--sklearn-color-text-on-default-background);\n",
       "}\n",
       "\n",
       "/* On hover, darken the color of the background */\n",
       "#sk-container-id-1 div.sk-label:hover label.sk-toggleable__label {\n",
       "  color: var(--sklearn-color-text);\n",
       "  background-color: var(--sklearn-color-unfitted-level-2);\n",
       "}\n",
       "\n",
       "/* Label box, darken color on hover, fitted */\n",
       "#sk-container-id-1 div.sk-label.fitted:hover label.sk-toggleable__label.fitted {\n",
       "  color: var(--sklearn-color-text);\n",
       "  background-color: var(--sklearn-color-fitted-level-2);\n",
       "}\n",
       "\n",
       "/* Estimator label */\n",
       "\n",
       "#sk-container-id-1 div.sk-label label {\n",
       "  font-family: monospace;\n",
       "  font-weight: bold;\n",
       "  display: inline-block;\n",
       "  line-height: 1.2em;\n",
       "}\n",
       "\n",
       "#sk-container-id-1 div.sk-label-container {\n",
       "  text-align: center;\n",
       "}\n",
       "\n",
       "/* Estimator-specific */\n",
       "#sk-container-id-1 div.sk-estimator {\n",
       "  font-family: monospace;\n",
       "  border: 1px dotted var(--sklearn-color-border-box);\n",
       "  border-radius: 0.25em;\n",
       "  box-sizing: border-box;\n",
       "  margin-bottom: 0.5em;\n",
       "  /* unfitted */\n",
       "  background-color: var(--sklearn-color-unfitted-level-0);\n",
       "}\n",
       "\n",
       "#sk-container-id-1 div.sk-estimator.fitted {\n",
       "  /* fitted */\n",
       "  background-color: var(--sklearn-color-fitted-level-0);\n",
       "}\n",
       "\n",
       "/* on hover */\n",
       "#sk-container-id-1 div.sk-estimator:hover {\n",
       "  /* unfitted */\n",
       "  background-color: var(--sklearn-color-unfitted-level-2);\n",
       "}\n",
       "\n",
       "#sk-container-id-1 div.sk-estimator.fitted:hover {\n",
       "  /* fitted */\n",
       "  background-color: var(--sklearn-color-fitted-level-2);\n",
       "}\n",
       "\n",
       "/* Specification for estimator info (e.g. \"i\" and \"?\") */\n",
       "\n",
       "/* Common style for \"i\" and \"?\" */\n",
       "\n",
       ".sk-estimator-doc-link,\n",
       "a:link.sk-estimator-doc-link,\n",
       "a:visited.sk-estimator-doc-link {\n",
       "  float: right;\n",
       "  font-size: smaller;\n",
       "  line-height: 1em;\n",
       "  font-family: monospace;\n",
       "  background-color: var(--sklearn-color-background);\n",
       "  border-radius: 1em;\n",
       "  height: 1em;\n",
       "  width: 1em;\n",
       "  text-decoration: none !important;\n",
       "  margin-left: 1ex;\n",
       "  /* unfitted */\n",
       "  border: var(--sklearn-color-unfitted-level-1) 1pt solid;\n",
       "  color: var(--sklearn-color-unfitted-level-1);\n",
       "}\n",
       "\n",
       ".sk-estimator-doc-link.fitted,\n",
       "a:link.sk-estimator-doc-link.fitted,\n",
       "a:visited.sk-estimator-doc-link.fitted {\n",
       "  /* fitted */\n",
       "  border: var(--sklearn-color-fitted-level-1) 1pt solid;\n",
       "  color: var(--sklearn-color-fitted-level-1);\n",
       "}\n",
       "\n",
       "/* On hover */\n",
       "div.sk-estimator:hover .sk-estimator-doc-link:hover,\n",
       ".sk-estimator-doc-link:hover,\n",
       "div.sk-label-container:hover .sk-estimator-doc-link:hover,\n",
       ".sk-estimator-doc-link:hover {\n",
       "  /* unfitted */\n",
       "  background-color: var(--sklearn-color-unfitted-level-3);\n",
       "  color: var(--sklearn-color-background);\n",
       "  text-decoration: none;\n",
       "}\n",
       "\n",
       "div.sk-estimator.fitted:hover .sk-estimator-doc-link.fitted:hover,\n",
       ".sk-estimator-doc-link.fitted:hover,\n",
       "div.sk-label-container:hover .sk-estimator-doc-link.fitted:hover,\n",
       ".sk-estimator-doc-link.fitted:hover {\n",
       "  /* fitted */\n",
       "  background-color: var(--sklearn-color-fitted-level-3);\n",
       "  color: var(--sklearn-color-background);\n",
       "  text-decoration: none;\n",
       "}\n",
       "\n",
       "/* Span, style for the box shown on hovering the info icon */\n",
       ".sk-estimator-doc-link span {\n",
       "  display: none;\n",
       "  z-index: 9999;\n",
       "  position: relative;\n",
       "  font-weight: normal;\n",
       "  right: .2ex;\n",
       "  padding: .5ex;\n",
       "  margin: .5ex;\n",
       "  width: min-content;\n",
       "  min-width: 20ex;\n",
       "  max-width: 50ex;\n",
       "  color: var(--sklearn-color-text);\n",
       "  box-shadow: 2pt 2pt 4pt #999;\n",
       "  /* unfitted */\n",
       "  background: var(--sklearn-color-unfitted-level-0);\n",
       "  border: .5pt solid var(--sklearn-color-unfitted-level-3);\n",
       "}\n",
       "\n",
       ".sk-estimator-doc-link.fitted span {\n",
       "  /* fitted */\n",
       "  background: var(--sklearn-color-fitted-level-0);\n",
       "  border: var(--sklearn-color-fitted-level-3);\n",
       "}\n",
       "\n",
       ".sk-estimator-doc-link:hover span {\n",
       "  display: block;\n",
       "}\n",
       "\n",
       "/* \"?\"-specific style due to the `<a>` HTML tag */\n",
       "\n",
       "#sk-container-id-1 a.estimator_doc_link {\n",
       "  float: right;\n",
       "  font-size: 1rem;\n",
       "  line-height: 1em;\n",
       "  font-family: monospace;\n",
       "  background-color: var(--sklearn-color-background);\n",
       "  border-radius: 1rem;\n",
       "  height: 1rem;\n",
       "  width: 1rem;\n",
       "  text-decoration: none;\n",
       "  /* unfitted */\n",
       "  color: var(--sklearn-color-unfitted-level-1);\n",
       "  border: var(--sklearn-color-unfitted-level-1) 1pt solid;\n",
       "}\n",
       "\n",
       "#sk-container-id-1 a.estimator_doc_link.fitted {\n",
       "  /* fitted */\n",
       "  border: var(--sklearn-color-fitted-level-1) 1pt solid;\n",
       "  color: var(--sklearn-color-fitted-level-1);\n",
       "}\n",
       "\n",
       "/* On hover */\n",
       "#sk-container-id-1 a.estimator_doc_link:hover {\n",
       "  /* unfitted */\n",
       "  background-color: var(--sklearn-color-unfitted-level-3);\n",
       "  color: var(--sklearn-color-background);\n",
       "  text-decoration: none;\n",
       "}\n",
       "\n",
       "#sk-container-id-1 a.estimator_doc_link.fitted:hover {\n",
       "  /* fitted */\n",
       "  background-color: var(--sklearn-color-fitted-level-3);\n",
       "}\n",
       "</style><div id=\"sk-container-id-1\" class=\"sk-top-container\"><div class=\"sk-text-repr-fallback\"><pre>DBSCAN(eps=0.1, min_samples=8)</pre><b>In a Jupyter environment, please rerun this cell to show the HTML representation or trust the notebook. <br />On GitHub, the HTML representation is unable to render, please try loading this page with nbviewer.org.</b></div><div class=\"sk-container\" hidden><div class=\"sk-item\"><div class=\"sk-estimator fitted sk-toggleable\"><input class=\"sk-toggleable__control sk-hidden--visually\" id=\"sk-estimator-id-1\" type=\"checkbox\" checked><label for=\"sk-estimator-id-1\" class=\"sk-toggleable__label fitted sk-toggleable__label-arrow fitted\">&nbsp;&nbsp;DBSCAN<a class=\"sk-estimator-doc-link fitted\" rel=\"noreferrer\" target=\"_blank\" href=\"https://scikit-learn.org/1.4/modules/generated/sklearn.cluster.DBSCAN.html\">?<span>Documentation for DBSCAN</span></a><span class=\"sk-estimator-doc-link fitted\">i<span>Fitted</span></span></label><div class=\"sk-toggleable__content fitted\"><pre>DBSCAN(eps=0.1, min_samples=8)</pre></div> </div></div></div></div>"
      ],
      "text/plain": [
       "DBSCAN(eps=0.1, min_samples=8)"
      ]
     },
     "execution_count": 20,
     "metadata": {},
     "output_type": "execute_result"
    }
   ],
   "source": [
    "hdb"
   ]
  },
  {
   "cell_type": "code",
   "execution_count": 30,
   "metadata": {},
   "outputs": [
    {
     "data": {
      "text/plain": [
       "(torch.Size([194]), torch.Size([194, 3]))"
      ]
     },
     "execution_count": 30,
     "metadata": {},
     "output_type": "execute_result"
    }
   ],
   "source": [
    "labels.shape, dic[\"graph\"].ndata[\"model_output\"][:,0:3].shape"
   ]
  },
  {
   "cell_type": "code",
   "execution_count": 7,
   "metadata": {},
   "outputs": [
    {
     "ename": "KeyError",
     "evalue": "'beta'",
     "output_type": "error",
     "traceback": [
      "\u001b[0;31m---------------------------------------------------------------------------\u001b[0m",
      "\u001b[0;31mKeyError\u001b[0m                                  Traceback (most recent call last)",
      "Cell \u001b[0;32mIn[7], line 11\u001b[0m\n\u001b[1;32m      1\u001b[0m \u001b[39m# graph = dic[\"graph\"]\u001b[39;00m\n\u001b[1;32m      2\u001b[0m \u001b[39m# labels_ = graph.ndata[\"ct_track_label\"].long() + 1\u001b[39;00m\n\u001b[1;32m      3\u001b[0m \u001b[39m# map_from = list(np.unique(labels_.detach().cpu()))\u001b[39;00m\n\u001b[0;32m   (...)\u001b[0m\n\u001b[1;32m      8\u001b[0m \u001b[39m#     .to(dic[\"graph\"].ndata[\"coords\"].device)\u001b[39;00m\n\u001b[1;32m      9\u001b[0m \u001b[39m# )\u001b[39;00m\n\u001b[1;32m     10\u001b[0m \u001b[39mfrom\u001b[39;00m \u001b[39msrc\u001b[39;00m\u001b[39m.\u001b[39;00m\u001b[39mlayers\u001b[39;00m\u001b[39m.\u001b[39;00m\u001b[39minference_oc_tracks\u001b[39;00m \u001b[39mimport\u001b[39;00m hfdb_obtain_labels\n\u001b[0;32m---> 11\u001b[0m betas \u001b[39m=\u001b[39m torch\u001b[39m.\u001b[39msigmoid(dic[\u001b[39m\"\u001b[39;49m\u001b[39mgraph\u001b[39;49m\u001b[39m\"\u001b[39;49m]\u001b[39m.\u001b[39;49mndata[\u001b[39m\"\u001b[39;49m\u001b[39mbeta\u001b[39;49m\u001b[39m\"\u001b[39;49m])\n\u001b[1;32m     12\u001b[0m X \u001b[39m=\u001b[39m dic[\u001b[39m\"\u001b[39m\u001b[39mgraph\u001b[39m\u001b[39m\"\u001b[39m]\u001b[39m.\u001b[39mndata[\u001b[39m\"\u001b[39m\u001b[39mcoords\u001b[39m\u001b[39m\"\u001b[39m]\n\u001b[1;32m     13\u001b[0m labels \u001b[39m=\u001b[39m hfdb_obtain_labels(X, betas\u001b[39m.\u001b[39mdevice)\n",
      "File \u001b[0;32m/afs/cern.ch/work/m/mgarciam/private/miniconda/miniconda3/envs/graphgps/lib/python3.10/site-packages/dgl/view.py:80\u001b[0m, in \u001b[0;36mHeteroNodeDataView.__getitem__\u001b[0;34m(self, key)\u001b[0m\n\u001b[1;32m     78\u001b[0m     \u001b[39mreturn\u001b[39;00m ret\n\u001b[1;32m     79\u001b[0m \u001b[39melse\u001b[39;00m:\n\u001b[0;32m---> 80\u001b[0m     \u001b[39mreturn\u001b[39;00m \u001b[39mself\u001b[39;49m\u001b[39m.\u001b[39;49m_graph\u001b[39m.\u001b[39;49m_get_n_repr(\u001b[39mself\u001b[39;49m\u001b[39m.\u001b[39;49m_ntid, \u001b[39mself\u001b[39;49m\u001b[39m.\u001b[39;49m_nodes)[key]\n",
      "File \u001b[0;32m/afs/cern.ch/work/m/mgarciam/private/miniconda/miniconda3/envs/graphgps/lib/python3.10/site-packages/dgl/frame.py:688\u001b[0m, in \u001b[0;36mFrame.__getitem__\u001b[0;34m(self, name)\u001b[0m\n\u001b[1;32m    675\u001b[0m \u001b[39mdef\u001b[39;00m \u001b[39m__getitem__\u001b[39m(\u001b[39mself\u001b[39m, name):\n\u001b[1;32m    676\u001b[0m \u001b[39m    \u001b[39m\u001b[39m\"\"\"Return the column of the given name.\u001b[39;00m\n\u001b[1;32m    677\u001b[0m \n\u001b[1;32m    678\u001b[0m \u001b[39m    Parameters\u001b[39;00m\n\u001b[0;32m   (...)\u001b[0m\n\u001b[1;32m    686\u001b[0m \u001b[39m        Column data.\u001b[39;00m\n\u001b[1;32m    687\u001b[0m \u001b[39m    \"\"\"\u001b[39;00m\n\u001b[0;32m--> 688\u001b[0m     \u001b[39mreturn\u001b[39;00m \u001b[39mself\u001b[39;49m\u001b[39m.\u001b[39;49m_columns[name]\u001b[39m.\u001b[39mdata\n",
      "\u001b[0;31mKeyError\u001b[0m: 'beta'"
     ]
    }
   ],
   "source": [
    "# graph = dic[\"graph\"]\n",
    "# labels_ = graph.ndata[\"ct_track_label\"].long() + 1\n",
    "# map_from = list(np.unique(labels_.detach().cpu()))\n",
    "# labels = map(lambda x: map_from.index(x), labels_)\n",
    "# labels = (\n",
    "#     torch.Tensor(list(labels))\n",
    "#     .long()\n",
    "#     .to(dic[\"graph\"].ndata[\"coords\"].device)\n",
    "# )\n",
    "from src.layers.inference_oc_tracks import hfdb_obtain_labels\n",
    "betas = torch.sigmoid(dic[\"graph\"].ndata[\"model_output\"])\n",
    "X = dic[\"graph\"].ndata[\"coords\"]\n",
    "labels = hfdb_obtain_labels(X, betas.device)\n",
    "\n",
    "\n",
    "particle_ids = torch.unique(dic[\"graph\"].ndata[\"particle_number\"])\n",
    "shower_p_unique = torch.unique(labels)\n",
    "print(\"particle_ids\",particle_ids)\n",
    "print(\"shower_p_unique\",shower_p_unique)"
   ]
  },
  {
   "cell_type": "code",
   "execution_count": 7,
   "metadata": {},
   "outputs": [],
   "source": [
    "from src.layers.inference_oc_tracks import obtain_intersection_matrix, obtain_union_matrix, generate_showers_data_frame, match_showers\n",
    "shower_p_unique, row_ind, col_ind, i_m_w, iou_matrix = match_showers(\n",
    "            labels,\n",
    "            dic,\n",
    "            particle_ids,\n",
    "            graph.ndata[\"ct_track_label\"].long(),\n",
    "            0,\n",
    "            0,\n",
    "            None,\n",
    "        )\n",
    "df_event1, number_of_showers_total = generate_showers_data_frame(\n",
    "                labels,\n",
    "                dic,\n",
    "                shower_p_unique,\n",
    "                particle_ids,\n",
    "                row_ind,\n",
    "                col_ind,\n",
    "                i_m_w,\n",
    "                number_of_showers_total=0,\n",
    "                step=0,\n",
    "                number_in_batch=0,\n",
    "            )"
   ]
  },
  {
   "cell_type": "code",
   "execution_count": 8,
   "metadata": {},
   "outputs": [
    {
     "data": {
      "text/html": [
       "<div>\n",
       "<style scoped>\n",
       "    .dataframe tbody tr th:only-of-type {\n",
       "        vertical-align: middle;\n",
       "    }\n",
       "\n",
       "    .dataframe tbody tr th {\n",
       "        vertical-align: top;\n",
       "    }\n",
       "\n",
       "    .dataframe thead th {\n",
       "        text-align: right;\n",
       "    }\n",
       "</style>\n",
       "<table border=\"1\" class=\"dataframe\">\n",
       "  <thead>\n",
       "    <tr style=\"text-align: right;\">\n",
       "      <th></th>\n",
       "      <th>reco_showers_E</th>\n",
       "      <th>true_showers_E</th>\n",
       "      <th>true_showers_pt</th>\n",
       "      <th>pred_showers_E</th>\n",
       "      <th>e_pred_and_truth</th>\n",
       "      <th>vtx_hits</th>\n",
       "      <th>cdc_hits</th>\n",
       "      <th>delta_MC</th>\n",
       "      <th>R</th>\n",
       "      <th>theta</th>\n",
       "      <th>gen_status</th>\n",
       "      <th>number_unique_hits</th>\n",
       "    </tr>\n",
       "  </thead>\n",
       "  <tbody>\n",
       "    <tr>\n",
       "      <th>0</th>\n",
       "      <td>14.0</td>\n",
       "      <td>1.408047</td>\n",
       "      <td>1.065244</td>\n",
       "      <td>10.0</td>\n",
       "      <td>10.0</td>\n",
       "      <td>6.0</td>\n",
       "      <td>0.0</td>\n",
       "      <td>0.646434</td>\n",
       "      <td>0.000992</td>\n",
       "      <td>2.283586</td>\n",
       "      <td>1.0</td>\n",
       "      <td>13.0</td>\n",
       "    </tr>\n",
       "    <tr>\n",
       "      <th>1</th>\n",
       "      <td>14.0</td>\n",
       "      <td>0.393755</td>\n",
       "      <td>0.227257</td>\n",
       "      <td>14.0</td>\n",
       "      <td>14.0</td>\n",
       "      <td>4.0</td>\n",
       "      <td>0.0</td>\n",
       "      <td>1.295341</td>\n",
       "      <td>0.000992</td>\n",
       "      <td>2.526353</td>\n",
       "      <td>1.0</td>\n",
       "      <td>12.0</td>\n",
       "    </tr>\n",
       "    <tr>\n",
       "      <th>2</th>\n",
       "      <td>20.0</td>\n",
       "      <td>0.608339</td>\n",
       "      <td>0.208656</td>\n",
       "      <td>14.0</td>\n",
       "      <td>14.0</td>\n",
       "      <td>6.0</td>\n",
       "      <td>0.0</td>\n",
       "      <td>0.454199</td>\n",
       "      <td>0.000992</td>\n",
       "      <td>0.350102</td>\n",
       "      <td>1.0</td>\n",
       "      <td>18.0</td>\n",
       "    </tr>\n",
       "    <tr>\n",
       "      <th>3</th>\n",
       "      <td>14.0</td>\n",
       "      <td>0.104104</td>\n",
       "      <td>0.102891</td>\n",
       "      <td>3.0</td>\n",
       "      <td>3.0</td>\n",
       "      <td>7.0</td>\n",
       "      <td>0.0</td>\n",
       "      <td>1.137775</td>\n",
       "      <td>0.000992</td>\n",
       "      <td>1.723591</td>\n",
       "      <td>1.0</td>\n",
       "      <td>9.0</td>\n",
       "    </tr>\n",
       "    <tr>\n",
       "      <th>4</th>\n",
       "      <td>19.0</td>\n",
       "      <td>13.464619</td>\n",
       "      <td>3.066793</td>\n",
       "      <td>13.0</td>\n",
       "      <td>13.0</td>\n",
       "      <td>4.0</td>\n",
       "      <td>0.0</td>\n",
       "      <td>0.320912</td>\n",
       "      <td>0.000992</td>\n",
       "      <td>0.229784</td>\n",
       "      <td>1.0</td>\n",
       "      <td>17.0</td>\n",
       "    </tr>\n",
       "    <tr>\n",
       "      <th>5</th>\n",
       "      <td>4.0</td>\n",
       "      <td>4.175058</td>\n",
       "      <td>0.487972</td>\n",
       "      <td>3.0</td>\n",
       "      <td>3.0</td>\n",
       "      <td>2.0</td>\n",
       "      <td>0.0</td>\n",
       "      <td>0.442975</td>\n",
       "      <td>0.000992</td>\n",
       "      <td>0.117146</td>\n",
       "      <td>1.0</td>\n",
       "      <td>4.0</td>\n",
       "    </tr>\n",
       "    <tr>\n",
       "      <th>6</th>\n",
       "      <td>16.0</td>\n",
       "      <td>1.813406</td>\n",
       "      <td>0.601026</td>\n",
       "      <td>12.0</td>\n",
       "      <td>12.0</td>\n",
       "      <td>4.0</td>\n",
       "      <td>0.0</td>\n",
       "      <td>0.404287</td>\n",
       "      <td>0.000992</td>\n",
       "      <td>0.337824</td>\n",
       "      <td>1.0</td>\n",
       "      <td>15.0</td>\n",
       "    </tr>\n",
       "    <tr>\n",
       "      <th>7</th>\n",
       "      <td>10.0</td>\n",
       "      <td>0.388859</td>\n",
       "      <td>0.130945</td>\n",
       "      <td>5.0</td>\n",
       "      <td>5.0</td>\n",
       "      <td>0.0</td>\n",
       "      <td>0.0</td>\n",
       "      <td>1.175653</td>\n",
       "      <td>0.111549</td>\n",
       "      <td>2.798140</td>\n",
       "      <td>0.0</td>\n",
       "      <td>8.0</td>\n",
       "    </tr>\n",
       "    <tr>\n",
       "      <th>8</th>\n",
       "      <td>7.0</td>\n",
       "      <td>1.244539</td>\n",
       "      <td>0.515698</td>\n",
       "      <td>NaN</td>\n",
       "      <td>NaN</td>\n",
       "      <td>0.0</td>\n",
       "      <td>0.0</td>\n",
       "      <td>0.454199</td>\n",
       "      <td>0.302689</td>\n",
       "      <td>0.427249</td>\n",
       "      <td>0.0</td>\n",
       "      <td>4.0</td>\n",
       "    </tr>\n",
       "    <tr>\n",
       "      <th>9</th>\n",
       "      <td>6.0</td>\n",
       "      <td>0.015672</td>\n",
       "      <td>0.009635</td>\n",
       "      <td>NaN</td>\n",
       "      <td>NaN</td>\n",
       "      <td>0.0</td>\n",
       "      <td>0.0</td>\n",
       "      <td>0.646434</td>\n",
       "      <td>0.127525</td>\n",
       "      <td>2.479493</td>\n",
       "      <td>0.0</td>\n",
       "      <td>4.0</td>\n",
       "    </tr>\n",
       "    <tr>\n",
       "      <th>10</th>\n",
       "      <td>5.0</td>\n",
       "      <td>4.380033</td>\n",
       "      <td>0.761347</td>\n",
       "      <td>5.0</td>\n",
       "      <td>5.0</td>\n",
       "      <td>0.0</td>\n",
       "      <td>0.0</td>\n",
       "      <td>0.002174</td>\n",
       "      <td>0.202937</td>\n",
       "      <td>0.174710</td>\n",
       "      <td>0.0</td>\n",
       "      <td>5.0</td>\n",
       "    </tr>\n",
       "    <tr>\n",
       "      <th>11</th>\n",
       "      <td>5.0</td>\n",
       "      <td>8.148778</td>\n",
       "      <td>1.416142</td>\n",
       "      <td>4.0</td>\n",
       "      <td>4.0</td>\n",
       "      <td>0.0</td>\n",
       "      <td>0.0</td>\n",
       "      <td>0.002174</td>\n",
       "      <td>0.202937</td>\n",
       "      <td>0.174673</td>\n",
       "      <td>0.0</td>\n",
       "      <td>5.0</td>\n",
       "    </tr>\n",
       "    <tr>\n",
       "      <th>12</th>\n",
       "      <td>NaN</td>\n",
       "      <td>NaN</td>\n",
       "      <td>NaN</td>\n",
       "      <td>4.0</td>\n",
       "      <td>NaN</td>\n",
       "      <td>NaN</td>\n",
       "      <td>NaN</td>\n",
       "      <td>NaN</td>\n",
       "      <td>NaN</td>\n",
       "      <td>NaN</td>\n",
       "      <td>NaN</td>\n",
       "      <td>NaN</td>\n",
       "    </tr>\n",
       "    <tr>\n",
       "      <th>13</th>\n",
       "      <td>NaN</td>\n",
       "      <td>NaN</td>\n",
       "      <td>NaN</td>\n",
       "      <td>5.0</td>\n",
       "      <td>NaN</td>\n",
       "      <td>NaN</td>\n",
       "      <td>NaN</td>\n",
       "      <td>NaN</td>\n",
       "      <td>NaN</td>\n",
       "      <td>NaN</td>\n",
       "      <td>NaN</td>\n",
       "      <td>NaN</td>\n",
       "    </tr>\n",
       "    <tr>\n",
       "      <th>14</th>\n",
       "      <td>NaN</td>\n",
       "      <td>NaN</td>\n",
       "      <td>NaN</td>\n",
       "      <td>4.0</td>\n",
       "      <td>NaN</td>\n",
       "      <td>NaN</td>\n",
       "      <td>NaN</td>\n",
       "      <td>NaN</td>\n",
       "      <td>NaN</td>\n",
       "      <td>NaN</td>\n",
       "      <td>NaN</td>\n",
       "      <td>NaN</td>\n",
       "    </tr>\n",
       "  </tbody>\n",
       "</table>\n",
       "</div>"
      ],
      "text/plain": [
       "    reco_showers_E  true_showers_E  true_showers_pt  pred_showers_E   \n",
       "0             14.0        1.408047         1.065244            10.0  \\\n",
       "1             14.0        0.393755         0.227257            14.0   \n",
       "2             20.0        0.608339         0.208656            14.0   \n",
       "3             14.0        0.104104         0.102891             3.0   \n",
       "4             19.0       13.464619         3.066793            13.0   \n",
       "5              4.0        4.175058         0.487972             3.0   \n",
       "6             16.0        1.813406         0.601026            12.0   \n",
       "7             10.0        0.388859         0.130945             5.0   \n",
       "8              7.0        1.244539         0.515698             NaN   \n",
       "9              6.0        0.015672         0.009635             NaN   \n",
       "10             5.0        4.380033         0.761347             5.0   \n",
       "11             5.0        8.148778         1.416142             4.0   \n",
       "12             NaN             NaN              NaN             4.0   \n",
       "13             NaN             NaN              NaN             5.0   \n",
       "14             NaN             NaN              NaN             4.0   \n",
       "\n",
       "    e_pred_and_truth  vtx_hits  cdc_hits  delta_MC         R     theta   \n",
       "0               10.0       6.0       0.0  0.646434  0.000992  2.283586  \\\n",
       "1               14.0       4.0       0.0  1.295341  0.000992  2.526353   \n",
       "2               14.0       6.0       0.0  0.454199  0.000992  0.350102   \n",
       "3                3.0       7.0       0.0  1.137775  0.000992  1.723591   \n",
       "4               13.0       4.0       0.0  0.320912  0.000992  0.229784   \n",
       "5                3.0       2.0       0.0  0.442975  0.000992  0.117146   \n",
       "6               12.0       4.0       0.0  0.404287  0.000992  0.337824   \n",
       "7                5.0       0.0       0.0  1.175653  0.111549  2.798140   \n",
       "8                NaN       0.0       0.0  0.454199  0.302689  0.427249   \n",
       "9                NaN       0.0       0.0  0.646434  0.127525  2.479493   \n",
       "10               5.0       0.0       0.0  0.002174  0.202937  0.174710   \n",
       "11               4.0       0.0       0.0  0.002174  0.202937  0.174673   \n",
       "12               NaN       NaN       NaN       NaN       NaN       NaN   \n",
       "13               NaN       NaN       NaN       NaN       NaN       NaN   \n",
       "14               NaN       NaN       NaN       NaN       NaN       NaN   \n",
       "\n",
       "    gen_status  number_unique_hits  \n",
       "0          1.0                13.0  \n",
       "1          1.0                12.0  \n",
       "2          1.0                18.0  \n",
       "3          1.0                 9.0  \n",
       "4          1.0                17.0  \n",
       "5          1.0                 4.0  \n",
       "6          1.0                15.0  \n",
       "7          0.0                 8.0  \n",
       "8          0.0                 4.0  \n",
       "9          0.0                 4.0  \n",
       "10         0.0                 5.0  \n",
       "11         0.0                 5.0  \n",
       "12         NaN                 NaN  \n",
       "13         NaN                 NaN  \n",
       "14         NaN                 NaN  "
      ]
     },
     "execution_count": 8,
     "metadata": {},
     "output_type": "execute_result"
    }
   ],
   "source": [
    "df_event1"
   ]
  },
  {
   "cell_type": "code",
   "execution_count": 9,
   "metadata": {},
   "outputs": [
    {
     "name": "stdout",
     "output_type": "stream",
     "text": [
      "23 54\n",
      "9 10\n",
      "12 13\n",
      "11 12\n",
      "4 4\n",
      "12 14\n",
      "5 5\n",
      "12 14\n",
      "4 4\n",
      "3 3\n",
      "3 3\n",
      "5 5\n",
      "4 4\n",
      "5 5\n"
     ]
    }
   ],
   "source": [
    "unique_labels = torch.unique(labels)\n",
    "for i in range(0,len(torch.unique(labels))):    \n",
    "    mask = labels == unique_labels[i]\n",
    "    print(len(torch.unique(graph.ndata[\"unique_id\"][mask])), len(graph.ndata[\"unique_id\"][mask]))"
   ]
  },
  {
   "cell_type": "code",
   "execution_count": 112,
   "metadata": {},
   "outputs": [],
   "source": [
    "unique_hits_per_track = calculate_number_of_unique_hits_per_track(labels, dic)\n",
    "\n",
    "e_pred_showers = 1.0 * scatter_add(\n",
    "    torch.ones_like(labels).view(-1),\n",
    "    labels.long(),\n",
    ")\n",
    "e_reco_showers = scatter_add(\n",
    "        torch.ones_like(labels).view(-1),\n",
    "        dic[\"graph\"].ndata[\"particle_number\"].long(),\n",
    "    )\n",
    "e_reco_showers = e_reco_showers[1:]\n",
    "row_ind = torch.Tensor(row_ind).to(e_pred_showers.device).long()\n",
    "col_ind = torch.Tensor(col_ind).to(e_pred_showers.device).long()\n",
    "if torch.sum(particle_ids == 0) > 0:\n",
    "    # particle id can be 0 because there is noise\n",
    "    # then row ind 0 in any case corresponds to particle 1.\n",
    "    # if there is particle_id 0 then row_ind should be +1?\n",
    "    row_ind_ = row_ind - 1\n",
    "else:\n",
    "    # if there is no zero then index 0 corresponds to particle 1.\n",
    "    row_ind_ = row_ind"
   ]
  },
  {
   "cell_type": "code",
   "execution_count": 113,
   "metadata": {},
   "outputs": [
    {
     "data": {
      "text/plain": [
       "tensor([ 0,  1,  2,  3,  4,  5,  6,  7,  8,  9, 10, 11, 12, 14, 15])"
      ]
     },
     "execution_count": 113,
     "metadata": {},
     "output_type": "execute_result"
    }
   ],
   "source": [
    "row_ind_"
   ]
  },
  {
   "cell_type": "code",
   "execution_count": 114,
   "metadata": {},
   "outputs": [],
   "source": [
    "matched_es = torch.zeros_like(e_reco_showers) * (torch.nan)\n",
    "matched_es = matched_es.to(e_pred_showers.device)\n",
    "index_matches = col_ind + 1\n",
    "index_matches = index_matches.to(e_pred_showers.device).long()"
   ]
  },
  {
   "cell_type": "code",
   "execution_count": 115,
   "metadata": {},
   "outputs": [
    {
     "data": {
      "text/plain": [
       "tensor([ 4,  6,  1,  2,  7,  8, 11,  5,  9, 10, 14,  3,  0, 12, 13])"
      ]
     },
     "execution_count": 115,
     "metadata": {},
     "output_type": "execute_result"
    }
   ],
   "source": [
    "col_ind"
   ]
  },
  {
   "cell_type": "code",
   "execution_count": 116,
   "metadata": {},
   "outputs": [
    {
     "data": {
      "text/plain": [
       "tensor([11.,  4., 11., 11., 12., 10.,  3., 10.,  6.,  5.,  6., 13., 13., nan,\n",
       "         5.,  5., nan, nan, nan, nan, nan, nan, nan, nan])"
      ]
     },
     "execution_count": 116,
     "metadata": {},
     "output_type": "execute_result"
    }
   ],
   "source": [
    "matched_es[row_ind_] = e_pred_showers[index_matches]\n",
    "matched_es"
   ]
  },
  {
   "cell_type": "code",
   "execution_count": 117,
   "metadata": {},
   "outputs": [
    {
     "data": {
      "text/plain": [
       "tensor([11.,  4., 11., 11., 12., 10.,  3., 10.,  6.,  5.,  6., 13., 13.,  5.,\n",
       "         5.])"
      ]
     },
     "execution_count": 117,
     "metadata": {},
     "output_type": "execute_result"
    }
   ],
   "source": [
    "e_pred_showers[index_matches]"
   ]
  },
  {
   "cell_type": "code",
   "execution_count": 118,
   "metadata": {},
   "outputs": [
    {
     "data": {
      "text/plain": [
       "tensor([ 0,  1,  2,  3,  4,  5,  6,  7,  8,  9, 10, 11, 12, 14, 15])"
      ]
     },
     "execution_count": 118,
     "metadata": {},
     "output_type": "execute_result"
    }
   ],
   "source": [
    "row_ind_"
   ]
  },
  {
   "cell_type": "code",
   "execution_count": 75,
   "metadata": {},
   "outputs": [
    {
     "data": {
      "image/png": "[encoded data removed]",
      "text/plain": [
       "<Figure size 1000x1000 with 2 Axes>"
      ]
     },
     "metadata": {},
     "output_type": "display_data"
    }
   ],
   "source": [
    "import numpy as np\n",
    "import matplotlib.pyplot as plt\n",
    "\n",
    "plt.imshow( torch.transpose(iou_matrix[1:, :], 1, 0).clone().detach().cpu().numpy())\n",
    "plt.colorbar()\n",
    "plt.show()"
   ]
  },
  {
   "cell_type": "code",
   "execution_count": null,
   "metadata": {},
   "outputs": [],
   "source": []
  },
  {
   "cell_type": "code",
   "execution_count": 13,
   "metadata": {},
   "outputs": [
    {
     "name": "stdout",
     "output_type": "stream",
     "text": [
      "0.6071428571428571\n"
     ]
    },
    {
     "data": {
      "text/html": [
       "<div>\n",
       "<style scoped>\n",
       "    .dataframe tbody tr th:only-of-type {\n",
       "        vertical-align: middle;\n",
       "    }\n",
       "\n",
       "    .dataframe tbody tr th {\n",
       "        vertical-align: top;\n",
       "    }\n",
       "\n",
       "    .dataframe thead th {\n",
       "        text-align: right;\n",
       "    }\n",
       "</style>\n",
       "<table border=\"1\" class=\"dataframe\">\n",
       "  <thead>\n",
       "    <tr style=\"text-align: right;\">\n",
       "      <th></th>\n",
       "      <th>reco_showers_E</th>\n",
       "      <th>true_showers_E</th>\n",
       "      <th>pred_showers_E</th>\n",
       "      <th>e_pred_and_truth</th>\n",
       "      <th>vtx_hits</th>\n",
       "      <th>cdc_hits</th>\n",
       "      <th>delta_MC</th>\n",
       "      <th>R</th>\n",
       "      <th>theta</th>\n",
       "    </tr>\n",
       "  </thead>\n",
       "  <tbody>\n",
       "    <tr>\n",
       "      <th>0</th>\n",
       "      <td>12.0</td>\n",
       "      <td>0.795633</td>\n",
       "      <td>7.0</td>\n",
       "      <td>7.0</td>\n",
       "      <td>6.0</td>\n",
       "      <td>0.0</td>\n",
       "      <td>0.113485</td>\n",
       "      <td>0.000794</td>\n",
       "      <td>1.099758</td>\n",
       "    </tr>\n",
       "    <tr>\n",
       "      <th>1</th>\n",
       "      <td>8.0</td>\n",
       "      <td>0.106051</td>\n",
       "      <td>4.0</td>\n",
       "      <td>4.0</td>\n",
       "      <td>6.0</td>\n",
       "      <td>0.0</td>\n",
       "      <td>0.985839</td>\n",
       "      <td>0.000794</td>\n",
       "      <td>2.370435</td>\n",
       "    </tr>\n",
       "    <tr>\n",
       "      <th>2</th>\n",
       "      <td>12.0</td>\n",
       "      <td>2.093235</td>\n",
       "      <td>10.0</td>\n",
       "      <td>10.0</td>\n",
       "      <td>6.0</td>\n",
       "      <td>0.0</td>\n",
       "      <td>0.477026</td>\n",
       "      <td>0.000794</td>\n",
       "      <td>1.179044</td>\n",
       "    </tr>\n",
       "    <tr>\n",
       "      <th>3</th>\n",
       "      <td>16.0</td>\n",
       "      <td>0.758106</td>\n",
       "      <td>12.0</td>\n",
       "      <td>12.0</td>\n",
       "      <td>6.0</td>\n",
       "      <td>0.0</td>\n",
       "      <td>0.867732</td>\n",
       "      <td>0.000794</td>\n",
       "      <td>0.530845</td>\n",
       "    </tr>\n",
       "    <tr>\n",
       "      <th>4</th>\n",
       "      <td>11.0</td>\n",
       "      <td>6.386620</td>\n",
       "      <td>5.0</td>\n",
       "      <td>5.0</td>\n",
       "      <td>6.0</td>\n",
       "      <td>0.0</td>\n",
       "      <td>0.093558</td>\n",
       "      <td>0.000794</td>\n",
       "      <td>1.137952</td>\n",
       "    </tr>\n",
       "    <tr>\n",
       "      <th>5</th>\n",
       "      <td>9.0</td>\n",
       "      <td>0.723819</td>\n",
       "      <td>7.0</td>\n",
       "      <td>7.0</td>\n",
       "      <td>6.0</td>\n",
       "      <td>0.0</td>\n",
       "      <td>0.565367</td>\n",
       "      <td>0.000794</td>\n",
       "      <td>1.875376</td>\n",
       "    </tr>\n",
       "    <tr>\n",
       "      <th>6</th>\n",
       "      <td>15.0</td>\n",
       "      <td>0.477534</td>\n",
       "      <td>5.0</td>\n",
       "      <td>5.0</td>\n",
       "      <td>9.0</td>\n",
       "      <td>0.0</td>\n",
       "      <td>0.287478</td>\n",
       "      <td>0.000794</td>\n",
       "      <td>1.946246</td>\n",
       "    </tr>\n",
       "    <tr>\n",
       "      <th>7</th>\n",
       "      <td>18.0</td>\n",
       "      <td>0.345217</td>\n",
       "      <td>5.0</td>\n",
       "      <td>5.0</td>\n",
       "      <td>6.0</td>\n",
       "      <td>0.0</td>\n",
       "      <td>0.113485</td>\n",
       "      <td>0.000794</td>\n",
       "      <td>1.193946</td>\n",
       "    </tr>\n",
       "    <tr>\n",
       "      <th>8</th>\n",
       "      <td>10.0</td>\n",
       "      <td>0.265652</td>\n",
       "      <td>5.0</td>\n",
       "      <td>5.0</td>\n",
       "      <td>7.0</td>\n",
       "      <td>0.0</td>\n",
       "      <td>0.152602</td>\n",
       "      <td>0.000794</td>\n",
       "      <td>1.859471</td>\n",
       "    </tr>\n",
       "    <tr>\n",
       "      <th>9</th>\n",
       "      <td>7.0</td>\n",
       "      <td>0.335788</td>\n",
       "      <td>6.0</td>\n",
       "      <td>5.0</td>\n",
       "      <td>6.0</td>\n",
       "      <td>0.0</td>\n",
       "      <td>0.335236</td>\n",
       "      <td>0.000794</td>\n",
       "      <td>1.129345</td>\n",
       "    </tr>\n",
       "    <tr>\n",
       "      <th>10</th>\n",
       "      <td>12.0</td>\n",
       "      <td>5.047110</td>\n",
       "      <td>4.0</td>\n",
       "      <td>4.0</td>\n",
       "      <td>6.0</td>\n",
       "      <td>0.0</td>\n",
       "      <td>0.019692</td>\n",
       "      <td>0.000794</td>\n",
       "      <td>1.096731</td>\n",
       "    </tr>\n",
       "    <tr>\n",
       "      <th>11</th>\n",
       "      <td>17.0</td>\n",
       "      <td>14.005832</td>\n",
       "      <td>4.0</td>\n",
       "      <td>4.0</td>\n",
       "      <td>11.0</td>\n",
       "      <td>0.0</td>\n",
       "      <td>0.019692</td>\n",
       "      <td>0.000794</td>\n",
       "      <td>1.111991</td>\n",
       "    </tr>\n",
       "    <tr>\n",
       "      <th>12</th>\n",
       "      <td>12.0</td>\n",
       "      <td>3.067449</td>\n",
       "      <td>10.0</td>\n",
       "      <td>10.0</td>\n",
       "      <td>6.0</td>\n",
       "      <td>0.0</td>\n",
       "      <td>0.088178</td>\n",
       "      <td>0.000794</td>\n",
       "      <td>1.931646</td>\n",
       "    </tr>\n",
       "    <tr>\n",
       "      <th>13</th>\n",
       "      <td>13.0</td>\n",
       "      <td>3.174674</td>\n",
       "      <td>9.0</td>\n",
       "      <td>9.0</td>\n",
       "      <td>7.0</td>\n",
       "      <td>0.0</td>\n",
       "      <td>0.088178</td>\n",
       "      <td>0.000794</td>\n",
       "      <td>1.976581</td>\n",
       "    </tr>\n",
       "    <tr>\n",
       "      <th>14</th>\n",
       "      <td>13.0</td>\n",
       "      <td>4.808321</td>\n",
       "      <td>6.0</td>\n",
       "      <td>5.0</td>\n",
       "      <td>8.0</td>\n",
       "      <td>0.0</td>\n",
       "      <td>0.011596</td>\n",
       "      <td>0.000794</td>\n",
       "      <td>2.103099</td>\n",
       "    </tr>\n",
       "    <tr>\n",
       "      <th>15</th>\n",
       "      <td>11.0</td>\n",
       "      <td>7.901162</td>\n",
       "      <td>9.0</td>\n",
       "      <td>9.0</td>\n",
       "      <td>6.0</td>\n",
       "      <td>0.0</td>\n",
       "      <td>0.011596</td>\n",
       "      <td>0.000794</td>\n",
       "      <td>2.098543</td>\n",
       "    </tr>\n",
       "    <tr>\n",
       "      <th>16</th>\n",
       "      <td>6.0</td>\n",
       "      <td>1.000841</td>\n",
       "      <td>5.0</td>\n",
       "      <td>5.0</td>\n",
       "      <td>0.0</td>\n",
       "      <td>0.0</td>\n",
       "      <td>0.496966</td>\n",
       "      <td>0.077965</td>\n",
       "      <td>2.145732</td>\n",
       "    </tr>\n",
       "    <tr>\n",
       "      <th>17</th>\n",
       "      <td>9.0</td>\n",
       "      <td>0.284588</td>\n",
       "      <td>NaN</td>\n",
       "      <td>NaN</td>\n",
       "      <td>0.0</td>\n",
       "      <td>0.0</td>\n",
       "      <td>0.551410</td>\n",
       "      <td>0.077965</td>\n",
       "      <td>1.435605</td>\n",
       "    </tr>\n",
       "    <tr>\n",
       "      <th>18</th>\n",
       "      <td>6.0</td>\n",
       "      <td>0.164980</td>\n",
       "      <td>NaN</td>\n",
       "      <td>NaN</td>\n",
       "      <td>0.0</td>\n",
       "      <td>0.0</td>\n",
       "      <td>0.197321</td>\n",
       "      <td>0.243965</td>\n",
       "      <td>1.982938</td>\n",
       "    </tr>\n",
       "    <tr>\n",
       "      <th>19</th>\n",
       "      <td>4.0</td>\n",
       "      <td>0.246846</td>\n",
       "      <td>NaN</td>\n",
       "      <td>NaN</td>\n",
       "      <td>0.0</td>\n",
       "      <td>0.0</td>\n",
       "      <td>0.407733</td>\n",
       "      <td>0.402049</td>\n",
       "      <td>1.261061</td>\n",
       "    </tr>\n",
       "    <tr>\n",
       "      <th>20</th>\n",
       "      <td>5.0</td>\n",
       "      <td>0.337086</td>\n",
       "      <td>NaN</td>\n",
       "      <td>NaN</td>\n",
       "      <td>0.0</td>\n",
       "      <td>0.0</td>\n",
       "      <td>0.335236</td>\n",
       "      <td>0.402049</td>\n",
       "      <td>1.372517</td>\n",
       "    </tr>\n",
       "    <tr>\n",
       "      <th>21</th>\n",
       "      <td>6.0</td>\n",
       "      <td>0.011900</td>\n",
       "      <td>NaN</td>\n",
       "      <td>NaN</td>\n",
       "      <td>0.0</td>\n",
       "      <td>0.0</td>\n",
       "      <td>0.521785</td>\n",
       "      <td>0.513222</td>\n",
       "      <td>2.465431</td>\n",
       "    </tr>\n",
       "    <tr>\n",
       "      <th>22</th>\n",
       "      <td>8.0</td>\n",
       "      <td>0.386427</td>\n",
       "      <td>NaN</td>\n",
       "      <td>NaN</td>\n",
       "      <td>0.0</td>\n",
       "      <td>0.0</td>\n",
       "      <td>0.313007</td>\n",
       "      <td>0.770855</td>\n",
       "      <td>1.915438</td>\n",
       "    </tr>\n",
       "    <tr>\n",
       "      <th>23</th>\n",
       "      <td>8.0</td>\n",
       "      <td>0.247643</td>\n",
       "      <td>NaN</td>\n",
       "      <td>NaN</td>\n",
       "      <td>0.0</td>\n",
       "      <td>0.0</td>\n",
       "      <td>0.313007</td>\n",
       "      <td>0.770855</td>\n",
       "      <td>1.984228</td>\n",
       "    </tr>\n",
       "    <tr>\n",
       "      <th>24</th>\n",
       "      <td>25.0</td>\n",
       "      <td>0.240765</td>\n",
       "      <td>NaN</td>\n",
       "      <td>NaN</td>\n",
       "      <td>0.0</td>\n",
       "      <td>0.0</td>\n",
       "      <td>0.152602</td>\n",
       "      <td>0.907857</td>\n",
       "      <td>1.714291</td>\n",
       "    </tr>\n",
       "    <tr>\n",
       "      <th>25</th>\n",
       "      <td>7.0</td>\n",
       "      <td>0.146765</td>\n",
       "      <td>NaN</td>\n",
       "      <td>NaN</td>\n",
       "      <td>0.0</td>\n",
       "      <td>0.0</td>\n",
       "      <td>0.141408</td>\n",
       "      <td>0.205675</td>\n",
       "      <td>1.817244</td>\n",
       "    </tr>\n",
       "    <tr>\n",
       "      <th>26</th>\n",
       "      <td>4.0</td>\n",
       "      <td>0.001462</td>\n",
       "      <td>NaN</td>\n",
       "      <td>NaN</td>\n",
       "      <td>4.0</td>\n",
       "      <td>0.0</td>\n",
       "      <td>0.830156</td>\n",
       "      <td>0.036699</td>\n",
       "      <td>2.801010</td>\n",
       "    </tr>\n",
       "    <tr>\n",
       "      <th>27</th>\n",
       "      <td>4.0</td>\n",
       "      <td>0.004339</td>\n",
       "      <td>NaN</td>\n",
       "      <td>NaN</td>\n",
       "      <td>0.0</td>\n",
       "      <td>0.0</td>\n",
       "      <td>0.241261</td>\n",
       "      <td>0.129172</td>\n",
       "      <td>1.646750</td>\n",
       "    </tr>\n",
       "  </tbody>\n",
       "</table>\n",
       "</div>"
      ],
      "text/plain": [
       "    reco_showers_E  true_showers_E  pred_showers_E  e_pred_and_truth   \n",
       "0             12.0        0.795633             7.0               7.0  \\\n",
       "1              8.0        0.106051             4.0               4.0   \n",
       "2             12.0        2.093235            10.0              10.0   \n",
       "3             16.0        0.758106            12.0              12.0   \n",
       "4             11.0        6.386620             5.0               5.0   \n",
       "5              9.0        0.723819             7.0               7.0   \n",
       "6             15.0        0.477534             5.0               5.0   \n",
       "7             18.0        0.345217             5.0               5.0   \n",
       "8             10.0        0.265652             5.0               5.0   \n",
       "9              7.0        0.335788             6.0               5.0   \n",
       "10            12.0        5.047110             4.0               4.0   \n",
       "11            17.0       14.005832             4.0               4.0   \n",
       "12            12.0        3.067449            10.0              10.0   \n",
       "13            13.0        3.174674             9.0               9.0   \n",
       "14            13.0        4.808321             6.0               5.0   \n",
       "15            11.0        7.901162             9.0               9.0   \n",
       "16             6.0        1.000841             5.0               5.0   \n",
       "17             9.0        0.284588             NaN               NaN   \n",
       "18             6.0        0.164980             NaN               NaN   \n",
       "19             4.0        0.246846             NaN               NaN   \n",
       "20             5.0        0.337086             NaN               NaN   \n",
       "21             6.0        0.011900             NaN               NaN   \n",
       "22             8.0        0.386427             NaN               NaN   \n",
       "23             8.0        0.247643             NaN               NaN   \n",
       "24            25.0        0.240765             NaN               NaN   \n",
       "25             7.0        0.146765             NaN               NaN   \n",
       "26             4.0        0.001462             NaN               NaN   \n",
       "27             4.0        0.004339             NaN               NaN   \n",
       "\n",
       "    vtx_hits  cdc_hits  delta_MC         R     theta  \n",
       "0        6.0       0.0  0.113485  0.000794  1.099758  \n",
       "1        6.0       0.0  0.985839  0.000794  2.370435  \n",
       "2        6.0       0.0  0.477026  0.000794  1.179044  \n",
       "3        6.0       0.0  0.867732  0.000794  0.530845  \n",
       "4        6.0       0.0  0.093558  0.000794  1.137952  \n",
       "5        6.0       0.0  0.565367  0.000794  1.875376  \n",
       "6        9.0       0.0  0.287478  0.000794  1.946246  \n",
       "7        6.0       0.0  0.113485  0.000794  1.193946  \n",
       "8        7.0       0.0  0.152602  0.000794  1.859471  \n",
       "9        6.0       0.0  0.335236  0.000794  1.129345  \n",
       "10       6.0       0.0  0.019692  0.000794  1.096731  \n",
       "11      11.0       0.0  0.019692  0.000794  1.111991  \n",
       "12       6.0       0.0  0.088178  0.000794  1.931646  \n",
       "13       7.0       0.0  0.088178  0.000794  1.976581  \n",
       "14       8.0       0.0  0.011596  0.000794  2.103099  \n",
       "15       6.0       0.0  0.011596  0.000794  2.098543  \n",
       "16       0.0       0.0  0.496966  0.077965  2.145732  \n",
       "17       0.0       0.0  0.551410  0.077965  1.435605  \n",
       "18       0.0       0.0  0.197321  0.243965  1.982938  \n",
       "19       0.0       0.0  0.407733  0.402049  1.261061  \n",
       "20       0.0       0.0  0.335236  0.402049  1.372517  \n",
       "21       0.0       0.0  0.521785  0.513222  2.465431  \n",
       "22       0.0       0.0  0.313007  0.770855  1.915438  \n",
       "23       0.0       0.0  0.313007  0.770855  1.984228  \n",
       "24       0.0       0.0  0.152602  0.907857  1.714291  \n",
       "25       0.0       0.0  0.141408  0.205675  1.817244  \n",
       "26       4.0       0.0  0.830156  0.036699  2.801010  \n",
       "27       0.0       0.0  0.241261  0.129172  1.646750  "
      ]
     },
     "execution_count": 13,
     "metadata": {},
     "output_type": "execute_result"
    }
   ],
   "source": [
    "df = df_event_pandora\n",
    "mask_nan_showers = np.isnan(df[\"reco_showers_E\"].values)*(df[\"pred_showers_E\"].values<4)\n",
    "df = df.drop(mask_nan_showers.nonzero()[0])\n",
    "mask = ~np.isnan(df[\"reco_showers_E\"])\n",
    "showers_are_not_nan = ~np.isnan(df[\"pred_showers_E\"][mask].values)\n",
    "showers_have_higher_than_75 = (df[\"e_pred_and_truth\"][mask].values)>=4\n",
    "eff = np.sum(showers_are_not_nan*showers_have_higher_than_75) / len(\n",
    "    df[\"pred_showers_E\"][mask].values\n",
    ")\n",
    "print(eff)\n",
    "df"
   ]
  },
  {
   "cell_type": "code",
   "execution_count": 8,
   "metadata": {},
   "outputs": [],
   "source": [
    "from src.layers.inference_oc_tracks import get_clustering\n",
    "dic[\"graph\"].ndata[\"coords\"] = dic[\"graph\"].ndata[\"model_output\"][:,0:3]\n",
    "betas  = torch.sigmoid(dic[\"graph\"].ndata[\"beta\"])\n",
    "X  = dic[\"graph\"].ndata[\"coords\"]\n",
    "clustering_mode = \"clustering_normal\"\n",
    "clustering1 = get_clustering(betas,X,tbeta=0.5, td=0.2)\n",
    "map_from = list(np.unique(clustering1))\n",
    "cluster_id = map(lambda x: map_from.index(x), clustering1)\n",
    "clustering_ordered = torch.Tensor(list(cluster_id)).long()\n",
    "if torch.unique(clustering1)[0] != -1:\n",
    "    clustering = clustering_ordered + 1\n",
    "else:\n",
    "    clustering = clustering_ordered\n",
    "clustering = np.reshape(clustering, (-1))\n",
    "clustering = torch.Tensor(clustering).long()\n",
    "# elif clustering_mode == \"dbscan\":\n",
    "# db = HDBSCAN(min_cluster_size=8, min_samples=8, cluster_selection_epsilon=0.05).fit(X)\n",
    "# labels_hdb = db.labels_ +1\n",
    "# labels_hdb = np.reshape(labels_hdb, (-1))\n",
    "# labels_hdb = torch.Tensor(labels_hdb).long()\n",
    "# labels = hfdb_obtain_labels(X, betas.device)\n",
    "\n",
    "from src.layers.inference_oc_tracks import match_showers, generate_showers_data_frame\n",
    "labels = clustering\n",
    "model_output = torch.cat((dic[\"graph\"].ndata[\"coords\"], dic[\"graph\"].ndata[\"beta\"].view(-1,1)), dim=1)\n",
    "particle_ids = torch.unique(dic[\"graph\"].ndata[\"particle_number\"])\n",
    "shower_p_unique = torch.unique(labels)\n",
    "shower_p_unique, row_ind, col_ind, i_m_w, iou_matrix= match_showers(\n",
    "    labels,\n",
    "    dic,\n",
    "    particle_ids,\n",
    "    model_output,\n",
    "    0,\n",
    "    0,\n",
    "    None,\n",
    ")\n",
    "df_event, number_of_showers_total = generate_showers_data_frame(\n",
    "                labels,\n",
    "                dic,\n",
    "                shower_p_unique,\n",
    "                particle_ids,\n",
    "                row_ind,\n",
    "                col_ind,\n",
    "                i_m_w,\n",
    "                number_of_showers_total=0,\n",
    "                step=0,\n",
    "                number_in_batch=0,\n",
    "            )\n",
    "\n",
    "# df_event[\"pred_showers_E\"][df_event[\"pred_showers_E\"]<3]=np.nan\n",
    "# df_event1 = df_event.drop(1*(np.isnan(df_event[\"reco_showers_E\"].values)).nonzero()[0])\n",
    "# df_event1"
   ]
  },
  {
   "cell_type": "code",
   "execution_count": 10,
   "metadata": {},
   "outputs": [
    {
     "name": "stdout",
     "output_type": "stream",
     "text": [
      "0.7857142857142857\n"
     ]
    },
    {
     "data": {
      "text/html": [
       "<div>\n",
       "<style scoped>\n",
       "    .dataframe tbody tr th:only-of-type {\n",
       "        vertical-align: middle;\n",
       "    }\n",
       "\n",
       "    .dataframe tbody tr th {\n",
       "        vertical-align: top;\n",
       "    }\n",
       "\n",
       "    .dataframe thead th {\n",
       "        text-align: right;\n",
       "    }\n",
       "</style>\n",
       "<table border=\"1\" class=\"dataframe\">\n",
       "  <thead>\n",
       "    <tr style=\"text-align: right;\">\n",
       "      <th></th>\n",
       "      <th>reco_showers_E</th>\n",
       "      <th>true_showers_E</th>\n",
       "      <th>pred_showers_E</th>\n",
       "      <th>e_pred_and_truth</th>\n",
       "      <th>vtx_hits</th>\n",
       "      <th>cdc_hits</th>\n",
       "      <th>delta_MC</th>\n",
       "      <th>R</th>\n",
       "      <th>theta</th>\n",
       "    </tr>\n",
       "  </thead>\n",
       "  <tbody>\n",
       "    <tr>\n",
       "      <th>0</th>\n",
       "      <td>12.0</td>\n",
       "      <td>0.795633</td>\n",
       "      <td>14.0</td>\n",
       "      <td>12.0</td>\n",
       "      <td>6.0</td>\n",
       "      <td>0.0</td>\n",
       "      <td>0.113485</td>\n",
       "      <td>0.000794</td>\n",
       "      <td>1.099758</td>\n",
       "    </tr>\n",
       "    <tr>\n",
       "      <th>1</th>\n",
       "      <td>8.0</td>\n",
       "      <td>0.106051</td>\n",
       "      <td>8.0</td>\n",
       "      <td>8.0</td>\n",
       "      <td>6.0</td>\n",
       "      <td>0.0</td>\n",
       "      <td>0.985839</td>\n",
       "      <td>0.000794</td>\n",
       "      <td>2.370435</td>\n",
       "    </tr>\n",
       "    <tr>\n",
       "      <th>2</th>\n",
       "      <td>12.0</td>\n",
       "      <td>2.093235</td>\n",
       "      <td>12.0</td>\n",
       "      <td>12.0</td>\n",
       "      <td>6.0</td>\n",
       "      <td>0.0</td>\n",
       "      <td>0.477026</td>\n",
       "      <td>0.000794</td>\n",
       "      <td>1.179044</td>\n",
       "    </tr>\n",
       "    <tr>\n",
       "      <th>3</th>\n",
       "      <td>16.0</td>\n",
       "      <td>0.758106</td>\n",
       "      <td>18.0</td>\n",
       "      <td>16.0</td>\n",
       "      <td>6.0</td>\n",
       "      <td>0.0</td>\n",
       "      <td>0.867732</td>\n",
       "      <td>0.000794</td>\n",
       "      <td>0.530845</td>\n",
       "    </tr>\n",
       "    <tr>\n",
       "      <th>4</th>\n",
       "      <td>11.0</td>\n",
       "      <td>6.386620</td>\n",
       "      <td>12.0</td>\n",
       "      <td>11.0</td>\n",
       "      <td>6.0</td>\n",
       "      <td>0.0</td>\n",
       "      <td>0.093558</td>\n",
       "      <td>0.000794</td>\n",
       "      <td>1.137952</td>\n",
       "    </tr>\n",
       "    <tr>\n",
       "      <th>5</th>\n",
       "      <td>9.0</td>\n",
       "      <td>0.723819</td>\n",
       "      <td>10.0</td>\n",
       "      <td>9.0</td>\n",
       "      <td>6.0</td>\n",
       "      <td>0.0</td>\n",
       "      <td>0.565367</td>\n",
       "      <td>0.000794</td>\n",
       "      <td>1.875376</td>\n",
       "    </tr>\n",
       "    <tr>\n",
       "      <th>6</th>\n",
       "      <td>15.0</td>\n",
       "      <td>0.477534</td>\n",
       "      <td>13.0</td>\n",
       "      <td>12.0</td>\n",
       "      <td>9.0</td>\n",
       "      <td>0.0</td>\n",
       "      <td>0.287478</td>\n",
       "      <td>0.000794</td>\n",
       "      <td>1.946246</td>\n",
       "    </tr>\n",
       "    <tr>\n",
       "      <th>7</th>\n",
       "      <td>18.0</td>\n",
       "      <td>0.345217</td>\n",
       "      <td>12.0</td>\n",
       "      <td>12.0</td>\n",
       "      <td>6.0</td>\n",
       "      <td>0.0</td>\n",
       "      <td>0.113485</td>\n",
       "      <td>0.000794</td>\n",
       "      <td>1.193946</td>\n",
       "    </tr>\n",
       "    <tr>\n",
       "      <th>8</th>\n",
       "      <td>10.0</td>\n",
       "      <td>0.265652</td>\n",
       "      <td>10.0</td>\n",
       "      <td>9.0</td>\n",
       "      <td>7.0</td>\n",
       "      <td>0.0</td>\n",
       "      <td>0.152602</td>\n",
       "      <td>0.000794</td>\n",
       "      <td>1.859471</td>\n",
       "    </tr>\n",
       "    <tr>\n",
       "      <th>9</th>\n",
       "      <td>7.0</td>\n",
       "      <td>0.335788</td>\n",
       "      <td>10.0</td>\n",
       "      <td>7.0</td>\n",
       "      <td>6.0</td>\n",
       "      <td>0.0</td>\n",
       "      <td>0.335236</td>\n",
       "      <td>0.000794</td>\n",
       "      <td>1.129345</td>\n",
       "    </tr>\n",
       "    <tr>\n",
       "      <th>10</th>\n",
       "      <td>12.0</td>\n",
       "      <td>5.047110</td>\n",
       "      <td>12.0</td>\n",
       "      <td>12.0</td>\n",
       "      <td>6.0</td>\n",
       "      <td>0.0</td>\n",
       "      <td>0.019692</td>\n",
       "      <td>0.000794</td>\n",
       "      <td>1.096731</td>\n",
       "    </tr>\n",
       "    <tr>\n",
       "      <th>11</th>\n",
       "      <td>17.0</td>\n",
       "      <td>14.005832</td>\n",
       "      <td>13.0</td>\n",
       "      <td>13.0</td>\n",
       "      <td>11.0</td>\n",
       "      <td>0.0</td>\n",
       "      <td>0.019692</td>\n",
       "      <td>0.000794</td>\n",
       "      <td>1.111991</td>\n",
       "    </tr>\n",
       "    <tr>\n",
       "      <th>12</th>\n",
       "      <td>12.0</td>\n",
       "      <td>3.067449</td>\n",
       "      <td>12.0</td>\n",
       "      <td>12.0</td>\n",
       "      <td>6.0</td>\n",
       "      <td>0.0</td>\n",
       "      <td>0.088178</td>\n",
       "      <td>0.000794</td>\n",
       "      <td>1.931646</td>\n",
       "    </tr>\n",
       "    <tr>\n",
       "      <th>13</th>\n",
       "      <td>13.0</td>\n",
       "      <td>3.174674</td>\n",
       "      <td>13.0</td>\n",
       "      <td>13.0</td>\n",
       "      <td>7.0</td>\n",
       "      <td>0.0</td>\n",
       "      <td>0.088178</td>\n",
       "      <td>0.000794</td>\n",
       "      <td>1.976581</td>\n",
       "    </tr>\n",
       "    <tr>\n",
       "      <th>14</th>\n",
       "      <td>13.0</td>\n",
       "      <td>4.808321</td>\n",
       "      <td>12.0</td>\n",
       "      <td>11.0</td>\n",
       "      <td>8.0</td>\n",
       "      <td>0.0</td>\n",
       "      <td>0.011596</td>\n",
       "      <td>0.000794</td>\n",
       "      <td>2.103099</td>\n",
       "    </tr>\n",
       "    <tr>\n",
       "      <th>15</th>\n",
       "      <td>11.0</td>\n",
       "      <td>7.901162</td>\n",
       "      <td>11.0</td>\n",
       "      <td>11.0</td>\n",
       "      <td>6.0</td>\n",
       "      <td>0.0</td>\n",
       "      <td>0.011596</td>\n",
       "      <td>0.000794</td>\n",
       "      <td>2.098543</td>\n",
       "    </tr>\n",
       "    <tr>\n",
       "      <th>16</th>\n",
       "      <td>6.0</td>\n",
       "      <td>1.000841</td>\n",
       "      <td>6.0</td>\n",
       "      <td>6.0</td>\n",
       "      <td>0.0</td>\n",
       "      <td>0.0</td>\n",
       "      <td>0.496966</td>\n",
       "      <td>0.077965</td>\n",
       "      <td>2.145732</td>\n",
       "    </tr>\n",
       "    <tr>\n",
       "      <th>17</th>\n",
       "      <td>9.0</td>\n",
       "      <td>0.284588</td>\n",
       "      <td>16.0</td>\n",
       "      <td>8.0</td>\n",
       "      <td>0.0</td>\n",
       "      <td>0.0</td>\n",
       "      <td>0.551410</td>\n",
       "      <td>0.077965</td>\n",
       "      <td>1.435605</td>\n",
       "    </tr>\n",
       "    <tr>\n",
       "      <th>18</th>\n",
       "      <td>6.0</td>\n",
       "      <td>0.164980</td>\n",
       "      <td>6.0</td>\n",
       "      <td>3.0</td>\n",
       "      <td>0.0</td>\n",
       "      <td>0.0</td>\n",
       "      <td>0.197321</td>\n",
       "      <td>0.243965</td>\n",
       "      <td>1.982938</td>\n",
       "    </tr>\n",
       "    <tr>\n",
       "      <th>19</th>\n",
       "      <td>4.0</td>\n",
       "      <td>0.246846</td>\n",
       "      <td>10.0</td>\n",
       "      <td>2.0</td>\n",
       "      <td>0.0</td>\n",
       "      <td>0.0</td>\n",
       "      <td>0.407733</td>\n",
       "      <td>0.402049</td>\n",
       "      <td>1.261061</td>\n",
       "    </tr>\n",
       "    <tr>\n",
       "      <th>20</th>\n",
       "      <td>5.0</td>\n",
       "      <td>0.337086</td>\n",
       "      <td>3.0</td>\n",
       "      <td>3.0</td>\n",
       "      <td>0.0</td>\n",
       "      <td>0.0</td>\n",
       "      <td>0.335236</td>\n",
       "      <td>0.402049</td>\n",
       "      <td>1.372517</td>\n",
       "    </tr>\n",
       "    <tr>\n",
       "      <th>21</th>\n",
       "      <td>6.0</td>\n",
       "      <td>0.011900</td>\n",
       "      <td>6.0</td>\n",
       "      <td>6.0</td>\n",
       "      <td>0.0</td>\n",
       "      <td>0.0</td>\n",
       "      <td>0.521785</td>\n",
       "      <td>0.513222</td>\n",
       "      <td>2.465431</td>\n",
       "    </tr>\n",
       "    <tr>\n",
       "      <th>22</th>\n",
       "      <td>8.0</td>\n",
       "      <td>0.386427</td>\n",
       "      <td>9.0</td>\n",
       "      <td>7.0</td>\n",
       "      <td>0.0</td>\n",
       "      <td>0.0</td>\n",
       "      <td>0.313007</td>\n",
       "      <td>0.770855</td>\n",
       "      <td>1.915438</td>\n",
       "    </tr>\n",
       "    <tr>\n",
       "      <th>23</th>\n",
       "      <td>8.0</td>\n",
       "      <td>0.247643</td>\n",
       "      <td>NaN</td>\n",
       "      <td>NaN</td>\n",
       "      <td>0.0</td>\n",
       "      <td>0.0</td>\n",
       "      <td>0.313007</td>\n",
       "      <td>0.770855</td>\n",
       "      <td>1.984228</td>\n",
       "    </tr>\n",
       "    <tr>\n",
       "      <th>24</th>\n",
       "      <td>25.0</td>\n",
       "      <td>0.240765</td>\n",
       "      <td>10.0</td>\n",
       "      <td>10.0</td>\n",
       "      <td>0.0</td>\n",
       "      <td>0.0</td>\n",
       "      <td>0.152602</td>\n",
       "      <td>0.907857</td>\n",
       "      <td>1.714291</td>\n",
       "    </tr>\n",
       "    <tr>\n",
       "      <th>25</th>\n",
       "      <td>7.0</td>\n",
       "      <td>0.146765</td>\n",
       "      <td>6.0</td>\n",
       "      <td>3.0</td>\n",
       "      <td>0.0</td>\n",
       "      <td>0.0</td>\n",
       "      <td>0.141408</td>\n",
       "      <td>0.205675</td>\n",
       "      <td>1.817244</td>\n",
       "    </tr>\n",
       "    <tr>\n",
       "      <th>26</th>\n",
       "      <td>4.0</td>\n",
       "      <td>0.001462</td>\n",
       "      <td>8.0</td>\n",
       "      <td>4.0</td>\n",
       "      <td>4.0</td>\n",
       "      <td>0.0</td>\n",
       "      <td>0.830156</td>\n",
       "      <td>0.036699</td>\n",
       "      <td>2.801010</td>\n",
       "    </tr>\n",
       "    <tr>\n",
       "      <th>27</th>\n",
       "      <td>4.0</td>\n",
       "      <td>0.004339</td>\n",
       "      <td>NaN</td>\n",
       "      <td>NaN</td>\n",
       "      <td>0.0</td>\n",
       "      <td>0.0</td>\n",
       "      <td>0.241261</td>\n",
       "      <td>0.129172</td>\n",
       "      <td>1.646750</td>\n",
       "    </tr>\n",
       "    <tr>\n",
       "      <th>28</th>\n",
       "      <td>NaN</td>\n",
       "      <td>NaN</td>\n",
       "      <td>4.0</td>\n",
       "      <td>NaN</td>\n",
       "      <td>NaN</td>\n",
       "      <td>NaN</td>\n",
       "      <td>NaN</td>\n",
       "      <td>NaN</td>\n",
       "      <td>NaN</td>\n",
       "    </tr>\n",
       "    <tr>\n",
       "      <th>29</th>\n",
       "      <td>NaN</td>\n",
       "      <td>NaN</td>\n",
       "      <td>5.0</td>\n",
       "      <td>NaN</td>\n",
       "      <td>NaN</td>\n",
       "      <td>NaN</td>\n",
       "      <td>NaN</td>\n",
       "      <td>NaN</td>\n",
       "      <td>NaN</td>\n",
       "    </tr>\n",
       "  </tbody>\n",
       "</table>\n",
       "</div>"
      ],
      "text/plain": [
       "    reco_showers_E  true_showers_E  pred_showers_E  e_pred_and_truth   \n",
       "0             12.0        0.795633            14.0              12.0  \\\n",
       "1              8.0        0.106051             8.0               8.0   \n",
       "2             12.0        2.093235            12.0              12.0   \n",
       "3             16.0        0.758106            18.0              16.0   \n",
       "4             11.0        6.386620            12.0              11.0   \n",
       "5              9.0        0.723819            10.0               9.0   \n",
       "6             15.0        0.477534            13.0              12.0   \n",
       "7             18.0        0.345217            12.0              12.0   \n",
       "8             10.0        0.265652            10.0               9.0   \n",
       "9              7.0        0.335788            10.0               7.0   \n",
       "10            12.0        5.047110            12.0              12.0   \n",
       "11            17.0       14.005832            13.0              13.0   \n",
       "12            12.0        3.067449            12.0              12.0   \n",
       "13            13.0        3.174674            13.0              13.0   \n",
       "14            13.0        4.808321            12.0              11.0   \n",
       "15            11.0        7.901162            11.0              11.0   \n",
       "16             6.0        1.000841             6.0               6.0   \n",
       "17             9.0        0.284588            16.0               8.0   \n",
       "18             6.0        0.164980             6.0               3.0   \n",
       "19             4.0        0.246846            10.0               2.0   \n",
       "20             5.0        0.337086             3.0               3.0   \n",
       "21             6.0        0.011900             6.0               6.0   \n",
       "22             8.0        0.386427             9.0               7.0   \n",
       "23             8.0        0.247643             NaN               NaN   \n",
       "24            25.0        0.240765            10.0              10.0   \n",
       "25             7.0        0.146765             6.0               3.0   \n",
       "26             4.0        0.001462             8.0               4.0   \n",
       "27             4.0        0.004339             NaN               NaN   \n",
       "28             NaN             NaN             4.0               NaN   \n",
       "29             NaN             NaN             5.0               NaN   \n",
       "\n",
       "    vtx_hits  cdc_hits  delta_MC         R     theta  \n",
       "0        6.0       0.0  0.113485  0.000794  1.099758  \n",
       "1        6.0       0.0  0.985839  0.000794  2.370435  \n",
       "2        6.0       0.0  0.477026  0.000794  1.179044  \n",
       "3        6.0       0.0  0.867732  0.000794  0.530845  \n",
       "4        6.0       0.0  0.093558  0.000794  1.137952  \n",
       "5        6.0       0.0  0.565367  0.000794  1.875376  \n",
       "6        9.0       0.0  0.287478  0.000794  1.946246  \n",
       "7        6.0       0.0  0.113485  0.000794  1.193946  \n",
       "8        7.0       0.0  0.152602  0.000794  1.859471  \n",
       "9        6.0       0.0  0.335236  0.000794  1.129345  \n",
       "10       6.0       0.0  0.019692  0.000794  1.096731  \n",
       "11      11.0       0.0  0.019692  0.000794  1.111991  \n",
       "12       6.0       0.0  0.088178  0.000794  1.931646  \n",
       "13       7.0       0.0  0.088178  0.000794  1.976581  \n",
       "14       8.0       0.0  0.011596  0.000794  2.103099  \n",
       "15       6.0       0.0  0.011596  0.000794  2.098543  \n",
       "16       0.0       0.0  0.496966  0.077965  2.145732  \n",
       "17       0.0       0.0  0.551410  0.077965  1.435605  \n",
       "18       0.0       0.0  0.197321  0.243965  1.982938  \n",
       "19       0.0       0.0  0.407733  0.402049  1.261061  \n",
       "20       0.0       0.0  0.335236  0.402049  1.372517  \n",
       "21       0.0       0.0  0.521785  0.513222  2.465431  \n",
       "22       0.0       0.0  0.313007  0.770855  1.915438  \n",
       "23       0.0       0.0  0.313007  0.770855  1.984228  \n",
       "24       0.0       0.0  0.152602  0.907857  1.714291  \n",
       "25       0.0       0.0  0.141408  0.205675  1.817244  \n",
       "26       4.0       0.0  0.830156  0.036699  2.801010  \n",
       "27       0.0       0.0  0.241261  0.129172  1.646750  \n",
       "28       NaN       NaN       NaN       NaN       NaN  \n",
       "29       NaN       NaN       NaN       NaN       NaN  "
      ]
     },
     "execution_count": 10,
     "metadata": {},
     "output_type": "execute_result"
    }
   ],
   "source": [
    "df = df_event \n",
    "mask_nan_showers = np.isnan(df[\"reco_showers_E\"].values)*(df[\"pred_showers_E\"].values<4)\n",
    "df = df.drop(mask_nan_showers.nonzero()[0])\n",
    "mask = ~np.isnan(df[\"reco_showers_E\"])\n",
    "showers_are_not_nan = ~np.isnan(df[\"pred_showers_E\"][mask].values)\n",
    "showers_have_higher_than_75 = (df[\"e_pred_and_truth\"][mask].values)>=4\n",
    "eff = np.sum(showers_are_not_nan*showers_have_higher_than_75) / len(\n",
    "    df[\"pred_showers_E\"][mask].values\n",
    ")\n",
    "print(eff)\n",
    "df"
   ]
  },
  {
   "cell_type": "code",
   "execution_count": 8,
   "metadata": {},
   "outputs": [],
   "source": [
    "# import plotly\n",
    "# import plotly.graph_objs as go\n",
    "# line = dict(color=\"black\", width=1)\n",
    "# def plot_single_arrow(\n",
    "#     fig, vec,  init_pt=[0, 0, 0], line=line\n",
    "# ):\n",
    "#     # init_pt: initial point of the vector\n",
    "#     fig.add_trace(\n",
    "#         go.Scatter3d(\n",
    "#             x=[init_pt[0], vec[0] + init_pt[0]],\n",
    "#             y=[init_pt[1], init_pt[1] + vec[1]],\n",
    "#             z=[init_pt[2], init_pt[2] + vec[2]],\n",
    "#             mode=\"lines\",\n",
    "#             line=line,\n",
    "#         )\n",
    "#     )\n",
    "#     fig.add_trace(\n",
    "#         go.Scatter3d(\n",
    "#             x=[vec[0] + init_pt[0]],\n",
    "#             y=[vec[1] + init_pt[1]],\n",
    "#             z=[vec[2] + init_pt[2]],\n",
    "#             mode=\"markers\",\n",
    "#             marker=dict(size=4, color=\"black\"),\n",
    "#             # hovertext=hovertext,\n",
    "#         )\n",
    "#     )"
   ]
  },
  {
   "cell_type": "code",
   "execution_count": 28,
   "metadata": {},
   "outputs": [
    {
     "data": {
      "text/plain": [
       "tensor([1., 1., 1., 1., 1., 1., 1., 1., 1., 1., 1., 1., 1., 1., 1., 1., 1., 1.,\n",
       "        1., 1., 1., 1., 1., 1., 1., 1., 1., 1., 1., 1., 1., 1., 1., 1., 1., 1.,\n",
       "        1., 1., 1., 1., 1., 1.])"
      ]
     },
     "execution_count": 28,
     "metadata": {},
     "output_type": "execute_result"
    }
   ],
   "source": [
    "g.ndata[\"particle_number\"]"
   ]
  },
  {
   "cell_type": "code",
   "execution_count": 44,
   "metadata": {},
   "outputs": [
    {
     "data": {
      "application/vnd.plotly.v1+json": {
       "config": {
        "plotlyServerURL": "https://plot.ly"
       },
       "data": [
        {
         "hovertemplate": "X=%{x}<br>Y=%{y}<br>Z=%{z}<br>features=%{marker.size}<br>tIdx=%{marker.color}<extra></extra>",
         "legendgroup": "",
         "marker": {
          "color": [
           0,
           0,
           0,
           0,
           0,
           0,
           0,
           0,
           0,
           0,
           0,
           0,
           0,
           0,
           0,
           0,
           0,
           0,
           0,
           0,
           0,
           0,
           0,
           0,
           0,
           0,
           0,
           0,
           0,
           0,
           0,
           0,
           0,
           0,
           0,
           0,
           1,
           1,
           1,
           1,
           1,
           1,
           1,
           1,
           1,
           1,
           2,
           2,
           2,
           2,
           2,
           2,
           2,
           2,
           2,
           2,
           2,
           2,
           2,
           2,
           -1,
           3,
           3,
           3,
           3,
           3,
           3,
           3,
           3,
           3,
           3,
           3,
           3,
           -1,
           -1,
           -1,
           3,
           3
          ],
          "coloraxis": "coloraxis",
          "line": {
           "width": 0
          },
          "size": [
           1,
           1,
           1,
           1,
           1,
           1,
           1,
           1,
           1,
           1,
           1,
           1,
           1,
           1,
           1,
           1,
           1,
           1,
           1,
           1,
           1,
           1,
           1,
           1,
           1,
           1,
           1,
           1,
           1,
           1,
           1,
           1,
           1,
           1,
           1,
           1,
           1,
           1,
           1,
           1,
           1,
           1,
           1,
           1,
           1,
           1,
           1,
           1,
           1,
           1,
           1,
           1,
           1,
           1,
           1,
           1,
           1,
           1,
           1,
           1,
           1,
           1,
           1,
           1,
           1,
           1,
           1,
           1,
           1,
           1,
           1,
           1,
           1,
           1,
           1,
           1,
           1,
           1
          ],
          "sizemode": "area",
          "sizeref": 0.0025,
          "symbol": "circle"
         },
         "mode": "markers",
         "name": "",
         "scene": "scene",
         "showlegend": false,
         "type": "scatter3d",
         "x": [
          -5.775383949279785,
          -9.594592094421387,
          -13.724574089050293,
          -53.60173797607422,
          -103.64847564697266,
          -123.12898254394531,
          -120.16096496582031,
          -138.244140625,
          -131.80030822753906,
          -142.73008728027344,
          -140.16455078125,
          -146.28640747070312,
          -141.1249542236328,
          -140.45774841308594,
          -137.71287536621094,
          -137.75975036621094,
          -132.20358276367188,
          -123.24082946777344,
          -113.92464447021484,
          -106.1417007446289,
          -97.57026672363281,
          -85.73365020751953,
          -91.01065826416016,
          -75.58072662353516,
          -69.2183837890625,
          -63.520206451416016,
          -38.509979248046875,
          -10.422590255737305,
          2.639498472213745,
          151.45973205566406,
          190.67861938476562,
          195.61624145507812,
          240.752685546875,
          349.5867004394531,
          370.01495361328125,
          379.99249267578125,
          249.72470092773438,
          261.6290283203125,
          260.216796875,
          258.0476379394531,
          254.37120056152344,
          250.34886169433594,
          246.2583770751953,
          242.4834747314453,
          240.37815856933594,
          144.0741424560547,
          42.01559829711914,
          20.132410049438477,
          -101.88999938964844,
          -220.29595947265625,
          -305.0348205566406,
          -351.03936767578125,
          -378.3545837402344,
          -505.1809997558594,
          -523.642578125,
          -603.2532348632812,
          -681.4185180664062,
          -690.3052368164062,
          -708.6430053710938,
          -792.927734375,
          -983.975830078125,
          451.4937744140625,
          452.69219970703125,
          452.8277282714844,
          453.747314453125,
          453.097900390625,
          453.0185241699219,
          452.5043640136719,
          449.9077453613281,
          450.8874816894531,
          451.4662780761719,
          447.4299011230469,
          449.9402770996094,
          450.5249938964844,
          450.78955078125,
          450.2657165527344,
          444.3256530761719,
          450.47247314453125
         ],
         "y": [
          -12.513845443725586,
          -20.955787658691406,
          -30.267833709716797,
          -130.08590698242188,
          -298.4120178222656,
          -375.9034729003906,
          -392.4117431640625,
          -484.2785339355469,
          -511.98638916015625,
          -525.2310180664062,
          -596.5919799804688,
          -623.49560546875,
          -709.4444580078125,
          -723.6038208007812,
          -767.3463134765625,
          -808.0747680664062,
          -851.56884765625,
          -896.0411376953125,
          -936.3892211914062,
          -995.7177124023438,
          -1025.053466796875,
          -1049.287353515625,
          -1063.107666015625,
          -1109.665283203125,
          -1135.1021728515625,
          -1150.1630859375,
          -1210.8397216796875,
          -1263.443115234375,
          -1290.2841796875,
          -1556.92529296875,
          -1609.6312255859375,
          -1619.021484375,
          -1655.709716796875,
          -1765.9970703125,
          -1795.9210205078125,
          -1808.597900390625,
          -1828.37451171875,
          -1808.2415771484375,
          -1782.9642333984375,
          -1680.8839111328125,
          -1651.046630859375,
          -1621.368408203125,
          -1581.1500244140625,
          -1567.6990966796875,
          -1522.583251953125,
          -1337.7208251953125,
          -1232.4322509765625,
          -1215.58935546875,
          -1123.0467529296875,
          -1098.0362548828125,
          -1074.287841796875,
          -1079.479736328125,
          -1080.4266357421875,
          -1092.8975830078125,
          -1099.0582275390625,
          -1123.2803955078125,
          -1161.622314453125,
          -1168.9622802734375,
          -1178.230712890625,
          -1242.6796875,
          -1561.6348876953125,
          -1859.451904296875,
          -1862.7247314453125,
          -1866.6953125,
          -1870.167724609375,
          -1871.0989990234375,
          -1870.8319091796875,
          -1871.1661376953125,
          -1861.8189697265625,
          -1867.3238525390625,
          -1871.5428466796875,
          -1871.2254638671875,
          -1859.0030517578125,
          -1865.152587890625,
          -1869.6661376953125,
          -1869.728271484375,
          -1862.464111328125,
          -1868.0455322265625
         ],
         "z": [
          0.6601737141609192,
          1.0972188711166382,
          1.5845402479171753,
          6.649545669555664,
          14.808544158935547,
          19.305355072021484,
          20.106855392456055,
          25.614439010620117,
          24.98451042175293,
          26.915939331054688,
          28.63625717163086,
          30.94476890563965,
          35.38318634033203,
          35.84585189819336,
          36.023712158203125,
          39.588844299316406,
          41.787418365478516,
          43.76748275756836,
          46.774818420410156,
          49.321964263916016,
          49.49283981323242,
          51.43507385253906,
          51.664276123046875,
          54.80746841430664,
          56.57343292236328,
          57.00969314575195,
          60.35929870605469,
          62.03621292114258,
          66.59449768066406,
          78.98286437988281,
          82.8839111328125,
          80.02821350097656,
          84.90161895751953,
          93.47474670410156,
          93.28062438964844,
          95.208740234375,
          893.1107788085938,
          893.4108276367188,
          892.913330078125,
          887.5093994140625,
          887.2553100585938,
          884.2068481445312,
          885.9786376953125,
          883.6463012695312,
          881.3948364257812,
          873.6782836914062,
          867.0269775390625,
          864.5506591796875,
          861.3070068359375,
          856.1643676757812,
          852.8323364257812,
          850.6021728515625,
          849.2275390625,
          844.549560546875,
          843.7940673828125,
          841.0499267578125,
          835.8856201171875,
          834.7568969726562,
          836.4503173828125,
          830.4971923828125,
          815.1306762695312,
          851.5225830078125,
          912.416259765625,
          968.9937133789062,
          1029.030517578125,
          1084.0052490234375,
          1141.6171875,
          1197.2481689453125,
          1295.3851318359375,
          1358.3834228515625,
          1420.986083984375,
          1492.8826904296875,
          1557.494140625,
          1616.92626953125,
          1675.473876953125,
          1731.215087890625,
          1861.04296875,
          1907.2991943359375
         ]
        }
       ],
       "layout": {
        "coloraxis": {
         "cmax": 4,
         "cmin": -1,
         "colorbar": {
          "title": {
           "text": "tIdx"
          }
         },
         "colorscale": [
          [
           0,
           "#440154"
          ],
          [
           0.1111111111111111,
           "#482878"
          ],
          [
           0.2222222222222222,
           "#3e4989"
          ],
          [
           0.3333333333333333,
           "#31688e"
          ],
          [
           0.4444444444444444,
           "#26828e"
          ],
          [
           0.5555555555555556,
           "#1f9e89"
          ],
          [
           0.6666666666666666,
           "#35b779"
          ],
          [
           0.7777777777777778,
           "#6ece58"
          ],
          [
           0.8888888888888888,
           "#b5de2b"
          ],
          [
           1,
           "#fde725"
          ]
         ]
        },
        "legend": {
         "itemsizing": "constant",
         "tracegroupgap": 0
        },
        "margin": {
         "t": 60
        },
        "scene": {
         "domain": {
          "x": [
           0,
           1
          ],
          "y": [
           0,
           1
          ]
         },
         "xaxis": {
          "title": {
           "text": "X"
          }
         },
         "yaxis": {
          "title": {
           "text": "Y"
          }
         },
         "zaxis": {
          "title": {
           "text": "Z"
          }
         }
        },
        "template": {
         "data": {
          "bar": [
           {
            "error_x": {
             "color": "rgb(36,36,36)"
            },
            "error_y": {
             "color": "rgb(36,36,36)"
            },
            "marker": {
             "line": {
              "color": "white",
              "width": 0.5
             },
             "pattern": {
              "fillmode": "overlay",
              "size": 10,
              "solidity": 0.2
             }
            },
            "type": "bar"
           }
          ],
          "barpolar": [
           {
            "marker": {
             "line": {
              "color": "white",
              "width": 0.5
             },
             "pattern": {
              "fillmode": "overlay",
              "size": 10,
              "solidity": 0.2
             }
            },
            "type": "barpolar"
           }
          ],
          "carpet": [
           {
            "aaxis": {
             "endlinecolor": "rgb(36,36,36)",
             "gridcolor": "white",
             "linecolor": "white",
             "minorgridcolor": "white",
             "startlinecolor": "rgb(36,36,36)"
            },
            "baxis": {
             "endlinecolor": "rgb(36,36,36)",
             "gridcolor": "white",
             "linecolor": "white",
             "minorgridcolor": "white",
             "startlinecolor": "rgb(36,36,36)"
            },
            "type": "carpet"
           }
          ],
          "choropleth": [
           {
            "colorbar": {
             "outlinewidth": 1,
             "tickcolor": "rgb(36,36,36)",
             "ticks": "outside"
            },
            "type": "choropleth"
           }
          ],
          "contour": [
           {
            "colorbar": {
             "outlinewidth": 1,
             "tickcolor": "rgb(36,36,36)",
             "ticks": "outside"
            },
            "colorscale": [
             [
              0,
              "#440154"
             ],
             [
              0.1111111111111111,
              "#482878"
             ],
             [
              0.2222222222222222,
              "#3e4989"
             ],
             [
              0.3333333333333333,
              "#31688e"
             ],
             [
              0.4444444444444444,
              "#26828e"
             ],
             [
              0.5555555555555556,
              "#1f9e89"
             ],
             [
              0.6666666666666666,
              "#35b779"
             ],
             [
              0.7777777777777778,
              "#6ece58"
             ],
             [
              0.8888888888888888,
              "#b5de2b"
             ],
             [
              1,
              "#fde725"
             ]
            ],
            "type": "contour"
           }
          ],
          "contourcarpet": [
           {
            "colorbar": {
             "outlinewidth": 1,
             "tickcolor": "rgb(36,36,36)",
             "ticks": "outside"
            },
            "type": "contourcarpet"
           }
          ],
          "heatmap": [
           {
            "colorbar": {
             "outlinewidth": 1,
             "tickcolor": "rgb(36,36,36)",
             "ticks": "outside"
            },
            "colorscale": [
             [
              0,
              "#440154"
             ],
             [
              0.1111111111111111,
              "#482878"
             ],
             [
              0.2222222222222222,
              "#3e4989"
             ],
             [
              0.3333333333333333,
              "#31688e"
             ],
             [
              0.4444444444444444,
              "#26828e"
             ],
             [
              0.5555555555555556,
              "#1f9e89"
             ],
             [
              0.6666666666666666,
              "#35b779"
             ],
             [
              0.7777777777777778,
              "#6ece58"
             ],
             [
              0.8888888888888888,
              "#b5de2b"
             ],
             [
              1,
              "#fde725"
             ]
            ],
            "type": "heatmap"
           }
          ],
          "heatmapgl": [
           {
            "colorbar": {
             "outlinewidth": 1,
             "tickcolor": "rgb(36,36,36)",
             "ticks": "outside"
            },
            "colorscale": [
             [
              0,
              "#440154"
             ],
             [
              0.1111111111111111,
              "#482878"
             ],
             [
              0.2222222222222222,
              "#3e4989"
             ],
             [
              0.3333333333333333,
              "#31688e"
             ],
             [
              0.4444444444444444,
              "#26828e"
             ],
             [
              0.5555555555555556,
              "#1f9e89"
             ],
             [
              0.6666666666666666,
              "#35b779"
             ],
             [
              0.7777777777777778,
              "#6ece58"
             ],
             [
              0.8888888888888888,
              "#b5de2b"
             ],
             [
              1,
              "#fde725"
             ]
            ],
            "type": "heatmapgl"
           }
          ],
          "histogram": [
           {
            "marker": {
             "line": {
              "color": "white",
              "width": 0.6
             }
            },
            "type": "histogram"
           }
          ],
          "histogram2d": [
           {
            "colorbar": {
             "outlinewidth": 1,
             "tickcolor": "rgb(36,36,36)",
             "ticks": "outside"
            },
            "colorscale": [
             [
              0,
              "#440154"
             ],
             [
              0.1111111111111111,
              "#482878"
             ],
             [
              0.2222222222222222,
              "#3e4989"
             ],
             [
              0.3333333333333333,
              "#31688e"
             ],
             [
              0.4444444444444444,
              "#26828e"
             ],
             [
              0.5555555555555556,
              "#1f9e89"
             ],
             [
              0.6666666666666666,
              "#35b779"
             ],
             [
              0.7777777777777778,
              "#6ece58"
             ],
             [
              0.8888888888888888,
              "#b5de2b"
             ],
             [
              1,
              "#fde725"
             ]
            ],
            "type": "histogram2d"
           }
          ],
          "histogram2dcontour": [
           {
            "colorbar": {
             "outlinewidth": 1,
             "tickcolor": "rgb(36,36,36)",
             "ticks": "outside"
            },
            "colorscale": [
             [
              0,
              "#440154"
             ],
             [
              0.1111111111111111,
              "#482878"
             ],
             [
              0.2222222222222222,
              "#3e4989"
             ],
             [
              0.3333333333333333,
              "#31688e"
             ],
             [
              0.4444444444444444,
              "#26828e"
             ],
             [
              0.5555555555555556,
              "#1f9e89"
             ],
             [
              0.6666666666666666,
              "#35b779"
             ],
             [
              0.7777777777777778,
              "#6ece58"
             ],
             [
              0.8888888888888888,
              "#b5de2b"
             ],
             [
              1,
              "#fde725"
             ]
            ],
            "type": "histogram2dcontour"
           }
          ],
          "mesh3d": [
           {
            "colorbar": {
             "outlinewidth": 1,
             "tickcolor": "rgb(36,36,36)",
             "ticks": "outside"
            },
            "type": "mesh3d"
           }
          ],
          "parcoords": [
           {
            "line": {
             "colorbar": {
              "outlinewidth": 1,
              "tickcolor": "rgb(36,36,36)",
              "ticks": "outside"
             }
            },
            "type": "parcoords"
           }
          ],
          "pie": [
           {
            "automargin": true,
            "type": "pie"
           }
          ],
          "scatter": [
           {
            "fillpattern": {
             "fillmode": "overlay",
             "size": 10,
             "solidity": 0.2
            },
            "type": "scatter"
           }
          ],
          "scatter3d": [
           {
            "line": {
             "colorbar": {
              "outlinewidth": 1,
              "tickcolor": "rgb(36,36,36)",
              "ticks": "outside"
             }
            },
            "marker": {
             "colorbar": {
              "outlinewidth": 1,
              "tickcolor": "rgb(36,36,36)",
              "ticks": "outside"
             }
            },
            "type": "scatter3d"
           }
          ],
          "scattercarpet": [
           {
            "marker": {
             "colorbar": {
              "outlinewidth": 1,
              "tickcolor": "rgb(36,36,36)",
              "ticks": "outside"
             }
            },
            "type": "scattercarpet"
           }
          ],
          "scattergeo": [
           {
            "marker": {
             "colorbar": {
              "outlinewidth": 1,
              "tickcolor": "rgb(36,36,36)",
              "ticks": "outside"
             }
            },
            "type": "scattergeo"
           }
          ],
          "scattergl": [
           {
            "marker": {
             "colorbar": {
              "outlinewidth": 1,
              "tickcolor": "rgb(36,36,36)",
              "ticks": "outside"
             }
            },
            "type": "scattergl"
           }
          ],
          "scattermapbox": [
           {
            "marker": {
             "colorbar": {
              "outlinewidth": 1,
              "tickcolor": "rgb(36,36,36)",
              "ticks": "outside"
             }
            },
            "type": "scattermapbox"
           }
          ],
          "scatterpolar": [
           {
            "marker": {
             "colorbar": {
              "outlinewidth": 1,
              "tickcolor": "rgb(36,36,36)",
              "ticks": "outside"
             }
            },
            "type": "scatterpolar"
           }
          ],
          "scatterpolargl": [
           {
            "marker": {
             "colorbar": {
              "outlinewidth": 1,
              "tickcolor": "rgb(36,36,36)",
              "ticks": "outside"
             }
            },
            "type": "scatterpolargl"
           }
          ],
          "scatterternary": [
           {
            "marker": {
             "colorbar": {
              "outlinewidth": 1,
              "tickcolor": "rgb(36,36,36)",
              "ticks": "outside"
             }
            },
            "type": "scatterternary"
           }
          ],
          "surface": [
           {
            "colorbar": {
             "outlinewidth": 1,
             "tickcolor": "rgb(36,36,36)",
             "ticks": "outside"
            },
            "colorscale": [
             [
              0,
              "#440154"
             ],
             [
              0.1111111111111111,
              "#482878"
             ],
             [
              0.2222222222222222,
              "#3e4989"
             ],
             [
              0.3333333333333333,
              "#31688e"
             ],
             [
              0.4444444444444444,
              "#26828e"
             ],
             [
              0.5555555555555556,
              "#1f9e89"
             ],
             [
              0.6666666666666666,
              "#35b779"
             ],
             [
              0.7777777777777778,
              "#6ece58"
             ],
             [
              0.8888888888888888,
              "#b5de2b"
             ],
             [
              1,
              "#fde725"
             ]
            ],
            "type": "surface"
           }
          ],
          "table": [
           {
            "cells": {
             "fill": {
              "color": "rgb(237,237,237)"
             },
             "line": {
              "color": "white"
             }
            },
            "header": {
             "fill": {
              "color": "rgb(217,217,217)"
             },
             "line": {
              "color": "white"
             }
            },
            "type": "table"
           }
          ]
         },
         "layout": {
          "annotationdefaults": {
           "arrowhead": 0,
           "arrowwidth": 1
          },
          "autotypenumbers": "strict",
          "coloraxis": {
           "colorbar": {
            "outlinewidth": 1,
            "tickcolor": "rgb(36,36,36)",
            "ticks": "outside"
           }
          },
          "colorscale": {
           "diverging": [
            [
             0,
             "rgb(103,0,31)"
            ],
            [
             0.1,
             "rgb(178,24,43)"
            ],
            [
             0.2,
             "rgb(214,96,77)"
            ],
            [
             0.3,
             "rgb(244,165,130)"
            ],
            [
             0.4,
             "rgb(253,219,199)"
            ],
            [
             0.5,
             "rgb(247,247,247)"
            ],
            [
             0.6,
             "rgb(209,229,240)"
            ],
            [
             0.7,
             "rgb(146,197,222)"
            ],
            [
             0.8,
             "rgb(67,147,195)"
            ],
            [
             0.9,
             "rgb(33,102,172)"
            ],
            [
             1,
             "rgb(5,48,97)"
            ]
           ],
           "sequential": [
            [
             0,
             "#440154"
            ],
            [
             0.1111111111111111,
             "#482878"
            ],
            [
             0.2222222222222222,
             "#3e4989"
            ],
            [
             0.3333333333333333,
             "#31688e"
            ],
            [
             0.4444444444444444,
             "#26828e"
            ],
            [
             0.5555555555555556,
             "#1f9e89"
            ],
            [
             0.6666666666666666,
             "#35b779"
            ],
            [
             0.7777777777777778,
             "#6ece58"
            ],
            [
             0.8888888888888888,
             "#b5de2b"
            ],
            [
             1,
             "#fde725"
            ]
           ],
           "sequentialminus": [
            [
             0,
             "#440154"
            ],
            [
             0.1111111111111111,
             "#482878"
            ],
            [
             0.2222222222222222,
             "#3e4989"
            ],
            [
             0.3333333333333333,
             "#31688e"
            ],
            [
             0.4444444444444444,
             "#26828e"
            ],
            [
             0.5555555555555556,
             "#1f9e89"
            ],
            [
             0.6666666666666666,
             "#35b779"
            ],
            [
             0.7777777777777778,
             "#6ece58"
            ],
            [
             0.8888888888888888,
             "#b5de2b"
            ],
            [
             1,
             "#fde725"
            ]
           ]
          },
          "colorway": [
           "#1F77B4",
           "#FF7F0E",
           "#2CA02C",
           "#D62728",
           "#9467BD",
           "#8C564B",
           "#E377C2",
           "#7F7F7F",
           "#BCBD22",
           "#17BECF"
          ],
          "font": {
           "color": "rgb(36,36,36)"
          },
          "geo": {
           "bgcolor": "white",
           "lakecolor": "white",
           "landcolor": "white",
           "showlakes": true,
           "showland": true,
           "subunitcolor": "white"
          },
          "hoverlabel": {
           "align": "left"
          },
          "hovermode": "closest",
          "mapbox": {
           "style": "light"
          },
          "paper_bgcolor": "white",
          "plot_bgcolor": "white",
          "polar": {
           "angularaxis": {
            "gridcolor": "rgb(232,232,232)",
            "linecolor": "rgb(36,36,36)",
            "showgrid": false,
            "showline": true,
            "ticks": "outside"
           },
           "bgcolor": "white",
           "radialaxis": {
            "gridcolor": "rgb(232,232,232)",
            "linecolor": "rgb(36,36,36)",
            "showgrid": false,
            "showline": true,
            "ticks": "outside"
           }
          },
          "scene": {
           "xaxis": {
            "backgroundcolor": "white",
            "gridcolor": "rgb(232,232,232)",
            "gridwidth": 2,
            "linecolor": "rgb(36,36,36)",
            "showbackground": true,
            "showgrid": false,
            "showline": true,
            "ticks": "outside",
            "zeroline": false,
            "zerolinecolor": "rgb(36,36,36)"
           },
           "yaxis": {
            "backgroundcolor": "white",
            "gridcolor": "rgb(232,232,232)",
            "gridwidth": 2,
            "linecolor": "rgb(36,36,36)",
            "showbackground": true,
            "showgrid": false,
            "showline": true,
            "ticks": "outside",
            "zeroline": false,
            "zerolinecolor": "rgb(36,36,36)"
           },
           "zaxis": {
            "backgroundcolor": "white",
            "gridcolor": "rgb(232,232,232)",
            "gridwidth": 2,
            "linecolor": "rgb(36,36,36)",
            "showbackground": true,
            "showgrid": false,
            "showline": true,
            "ticks": "outside",
            "zeroline": false,
            "zerolinecolor": "rgb(36,36,36)"
           }
          },
          "shapedefaults": {
           "fillcolor": "black",
           "line": {
            "width": 0
           },
           "opacity": 0.3
          },
          "ternary": {
           "aaxis": {
            "gridcolor": "rgb(232,232,232)",
            "linecolor": "rgb(36,36,36)",
            "showgrid": false,
            "showline": true,
            "ticks": "outside"
           },
           "baxis": {
            "gridcolor": "rgb(232,232,232)",
            "linecolor": "rgb(36,36,36)",
            "showgrid": false,
            "showline": true,
            "ticks": "outside"
           },
           "bgcolor": "white",
           "caxis": {
            "gridcolor": "rgb(232,232,232)",
            "linecolor": "rgb(36,36,36)",
            "showgrid": false,
            "showline": true,
            "ticks": "outside"
           }
          },
          "title": {
           "x": 0.05
          },
          "xaxis": {
           "automargin": true,
           "gridcolor": "rgb(232,232,232)",
           "linecolor": "rgb(36,36,36)",
           "showgrid": false,
           "showline": true,
           "ticks": "outside",
           "title": {
            "standoff": 15
           },
           "zeroline": false,
           "zerolinecolor": "rgb(36,36,36)"
          },
          "yaxis": {
           "automargin": true,
           "gridcolor": "rgb(232,232,232)",
           "linecolor": "rgb(36,36,36)",
           "showgrid": false,
           "showline": true,
           "ticks": "outside",
           "title": {
            "standoff": 15
           },
           "zeroline": false,
           "zerolinecolor": "rgb(36,36,36)"
          }
         }
        }
       }
      },
      "text/html": [
       "<div>                            <div id=\"a939f244-8881-4a49-8f3b-eb164fdfd222\" class=\"plotly-graph-div\" style=\"height:525px; width:100%;\"></div>            <script type=\"text/javascript\">                require([\"plotly\"], function(Plotly) {                    window.PLOTLYENV=window.PLOTLYENV || {};                                    if (document.getElementById(\"a939f244-8881-4a49-8f3b-eb164fdfd222\")) {                    Plotly.newPlot(                        \"a939f244-8881-4a49-8f3b-eb164fdfd222\",                        [{\"hovertemplate\":\"X=%{x}\\u003cbr\\u003eY=%{y}\\u003cbr\\u003eZ=%{z}\\u003cbr\\u003efeatures=%{marker.size}\\u003cbr\\u003etIdx=%{marker.color}\\u003cextra\\u003e\\u003c\\u002fextra\\u003e\",\"legendgroup\":\"\",\"marker\":{\"color\":[0.0,0.0,0.0,0.0,0.0,0.0,0.0,0.0,0.0,0.0,0.0,0.0,0.0,0.0,0.0,0.0,0.0,0.0,0.0,0.0,0.0,0.0,0.0,0.0,0.0,0.0,0.0,0.0,0.0,0.0,0.0,0.0,0.0,0.0,0.0,0.0,1.0,1.0,1.0,1.0,1.0,1.0,1.0,1.0,1.0,1.0,2.0,2.0,2.0,2.0,2.0,2.0,2.0,2.0,2.0,2.0,2.0,2.0,2.0,2.0,-1.0,3.0,3.0,3.0,3.0,3.0,3.0,3.0,3.0,3.0,3.0,3.0,3.0,-1.0,-1.0,-1.0,3.0,3.0],\"coloraxis\":\"coloraxis\",\"size\":[1.0,1.0,1.0,1.0,1.0,1.0,1.0,1.0,1.0,1.0,1.0,1.0,1.0,1.0,1.0,1.0,1.0,1.0,1.0,1.0,1.0,1.0,1.0,1.0,1.0,1.0,1.0,1.0,1.0,1.0,1.0,1.0,1.0,1.0,1.0,1.0,1.0,1.0,1.0,1.0,1.0,1.0,1.0,1.0,1.0,1.0,1.0,1.0,1.0,1.0,1.0,1.0,1.0,1.0,1.0,1.0,1.0,1.0,1.0,1.0,1.0,1.0,1.0,1.0,1.0,1.0,1.0,1.0,1.0,1.0,1.0,1.0,1.0,1.0,1.0,1.0,1.0,1.0],\"sizemode\":\"area\",\"sizeref\":0.0025,\"symbol\":\"circle\",\"line\":{\"width\":0}},\"mode\":\"markers\",\"name\":\"\",\"scene\":\"scene\",\"showlegend\":false,\"x\":[-5.775383949279785,-9.594592094421387,-13.724574089050293,-53.60173797607422,-103.64847564697266,-123.12898254394531,-120.16096496582031,-138.244140625,-131.80030822753906,-142.73008728027344,-140.16455078125,-146.28640747070312,-141.1249542236328,-140.45774841308594,-137.71287536621094,-137.75975036621094,-132.20358276367188,-123.24082946777344,-113.92464447021484,-106.1417007446289,-97.57026672363281,-85.73365020751953,-91.01065826416016,-75.58072662353516,-69.2183837890625,-63.520206451416016,-38.509979248046875,-10.422590255737305,2.639498472213745,151.45973205566406,190.67861938476562,195.61624145507812,240.752685546875,349.5867004394531,370.01495361328125,379.99249267578125,249.72470092773438,261.6290283203125,260.216796875,258.0476379394531,254.37120056152344,250.34886169433594,246.2583770751953,242.4834747314453,240.37815856933594,144.0741424560547,42.01559829711914,20.132410049438477,-101.88999938964844,-220.29595947265625,-305.0348205566406,-351.03936767578125,-378.3545837402344,-505.1809997558594,-523.642578125,-603.2532348632812,-681.4185180664062,-690.3052368164062,-708.6430053710938,-792.927734375,-983.975830078125,451.4937744140625,452.69219970703125,452.8277282714844,453.747314453125,453.097900390625,453.0185241699219,452.5043640136719,449.9077453613281,450.8874816894531,451.4662780761719,447.4299011230469,449.9402770996094,450.5249938964844,450.78955078125,450.2657165527344,444.3256530761719,450.47247314453125],\"y\":[-12.513845443725586,-20.955787658691406,-30.267833709716797,-130.08590698242188,-298.4120178222656,-375.9034729003906,-392.4117431640625,-484.2785339355469,-511.98638916015625,-525.2310180664062,-596.5919799804688,-623.49560546875,-709.4444580078125,-723.6038208007812,-767.3463134765625,-808.0747680664062,-851.56884765625,-896.0411376953125,-936.3892211914062,-995.7177124023438,-1025.053466796875,-1049.287353515625,-1063.107666015625,-1109.665283203125,-1135.1021728515625,-1150.1630859375,-1210.8397216796875,-1263.443115234375,-1290.2841796875,-1556.92529296875,-1609.6312255859375,-1619.021484375,-1655.709716796875,-1765.9970703125,-1795.9210205078125,-1808.597900390625,-1828.37451171875,-1808.2415771484375,-1782.9642333984375,-1680.8839111328125,-1651.046630859375,-1621.368408203125,-1581.1500244140625,-1567.6990966796875,-1522.583251953125,-1337.7208251953125,-1232.4322509765625,-1215.58935546875,-1123.0467529296875,-1098.0362548828125,-1074.287841796875,-1079.479736328125,-1080.4266357421875,-1092.8975830078125,-1099.0582275390625,-1123.2803955078125,-1161.622314453125,-1168.9622802734375,-1178.230712890625,-1242.6796875,-1561.6348876953125,-1859.451904296875,-1862.7247314453125,-1866.6953125,-1870.167724609375,-1871.0989990234375,-1870.8319091796875,-1871.1661376953125,-1861.8189697265625,-1867.3238525390625,-1871.5428466796875,-1871.2254638671875,-1859.0030517578125,-1865.152587890625,-1869.6661376953125,-1869.728271484375,-1862.464111328125,-1868.0455322265625],\"z\":[0.6601737141609192,1.0972188711166382,1.5845402479171753,6.649545669555664,14.808544158935547,19.305355072021484,20.106855392456055,25.614439010620117,24.98451042175293,26.915939331054688,28.63625717163086,30.94476890563965,35.38318634033203,35.84585189819336,36.023712158203125,39.588844299316406,41.787418365478516,43.76748275756836,46.774818420410156,49.321964263916016,49.49283981323242,51.43507385253906,51.664276123046875,54.80746841430664,56.57343292236328,57.00969314575195,60.35929870605469,62.03621292114258,66.59449768066406,78.98286437988281,82.8839111328125,80.02821350097656,84.90161895751953,93.47474670410156,93.28062438964844,95.208740234375,893.1107788085938,893.4108276367188,892.913330078125,887.5093994140625,887.2553100585938,884.2068481445312,885.9786376953125,883.6463012695312,881.3948364257812,873.6782836914062,867.0269775390625,864.5506591796875,861.3070068359375,856.1643676757812,852.8323364257812,850.6021728515625,849.2275390625,844.549560546875,843.7940673828125,841.0499267578125,835.8856201171875,834.7568969726562,836.4503173828125,830.4971923828125,815.1306762695312,851.5225830078125,912.416259765625,968.9937133789062,1029.030517578125,1084.0052490234375,1141.6171875,1197.2481689453125,1295.3851318359375,1358.3834228515625,1420.986083984375,1492.8826904296875,1557.494140625,1616.92626953125,1675.473876953125,1731.215087890625,1861.04296875,1907.2991943359375],\"type\":\"scatter3d\"}],                        {\"template\":{\"data\":{\"barpolar\":[{\"marker\":{\"line\":{\"color\":\"white\",\"width\":0.5},\"pattern\":{\"fillmode\":\"overlay\",\"size\":10,\"solidity\":0.2}},\"type\":\"barpolar\"}],\"bar\":[{\"error_x\":{\"color\":\"rgb(36,36,36)\"},\"error_y\":{\"color\":\"rgb(36,36,36)\"},\"marker\":{\"line\":{\"color\":\"white\",\"width\":0.5},\"pattern\":{\"fillmode\":\"overlay\",\"size\":10,\"solidity\":0.2}},\"type\":\"bar\"}],\"carpet\":[{\"aaxis\":{\"endlinecolor\":\"rgb(36,36,36)\",\"gridcolor\":\"white\",\"linecolor\":\"white\",\"minorgridcolor\":\"white\",\"startlinecolor\":\"rgb(36,36,36)\"},\"baxis\":{\"endlinecolor\":\"rgb(36,36,36)\",\"gridcolor\":\"white\",\"linecolor\":\"white\",\"minorgridcolor\":\"white\",\"startlinecolor\":\"rgb(36,36,36)\"},\"type\":\"carpet\"}],\"choropleth\":[{\"colorbar\":{\"outlinewidth\":1,\"tickcolor\":\"rgb(36,36,36)\",\"ticks\":\"outside\"},\"type\":\"choropleth\"}],\"contourcarpet\":[{\"colorbar\":{\"outlinewidth\":1,\"tickcolor\":\"rgb(36,36,36)\",\"ticks\":\"outside\"},\"type\":\"contourcarpet\"}],\"contour\":[{\"colorbar\":{\"outlinewidth\":1,\"tickcolor\":\"rgb(36,36,36)\",\"ticks\":\"outside\"},\"colorscale\":[[0.0,\"#440154\"],[0.1111111111111111,\"#482878\"],[0.2222222222222222,\"#3e4989\"],[0.3333333333333333,\"#31688e\"],[0.4444444444444444,\"#26828e\"],[0.5555555555555556,\"#1f9e89\"],[0.6666666666666666,\"#35b779\"],[0.7777777777777778,\"#6ece58\"],[0.8888888888888888,\"#b5de2b\"],[1.0,\"#fde725\"]],\"type\":\"contour\"}],\"heatmapgl\":[{\"colorbar\":{\"outlinewidth\":1,\"tickcolor\":\"rgb(36,36,36)\",\"ticks\":\"outside\"},\"colorscale\":[[0.0,\"#440154\"],[0.1111111111111111,\"#482878\"],[0.2222222222222222,\"#3e4989\"],[0.3333333333333333,\"#31688e\"],[0.4444444444444444,\"#26828e\"],[0.5555555555555556,\"#1f9e89\"],[0.6666666666666666,\"#35b779\"],[0.7777777777777778,\"#6ece58\"],[0.8888888888888888,\"#b5de2b\"],[1.0,\"#fde725\"]],\"type\":\"heatmapgl\"}],\"heatmap\":[{\"colorbar\":{\"outlinewidth\":1,\"tickcolor\":\"rgb(36,36,36)\",\"ticks\":\"outside\"},\"colorscale\":[[0.0,\"#440154\"],[0.1111111111111111,\"#482878\"],[0.2222222222222222,\"#3e4989\"],[0.3333333333333333,\"#31688e\"],[0.4444444444444444,\"#26828e\"],[0.5555555555555556,\"#1f9e89\"],[0.6666666666666666,\"#35b779\"],[0.7777777777777778,\"#6ece58\"],[0.8888888888888888,\"#b5de2b\"],[1.0,\"#fde725\"]],\"type\":\"heatmap\"}],\"histogram2dcontour\":[{\"colorbar\":{\"outlinewidth\":1,\"tickcolor\":\"rgb(36,36,36)\",\"ticks\":\"outside\"},\"colorscale\":[[0.0,\"#440154\"],[0.1111111111111111,\"#482878\"],[0.2222222222222222,\"#3e4989\"],[0.3333333333333333,\"#31688e\"],[0.4444444444444444,\"#26828e\"],[0.5555555555555556,\"#1f9e89\"],[0.6666666666666666,\"#35b779\"],[0.7777777777777778,\"#6ece58\"],[0.8888888888888888,\"#b5de2b\"],[1.0,\"#fde725\"]],\"type\":\"histogram2dcontour\"}],\"histogram2d\":[{\"colorbar\":{\"outlinewidth\":1,\"tickcolor\":\"rgb(36,36,36)\",\"ticks\":\"outside\"},\"colorscale\":[[0.0,\"#440154\"],[0.1111111111111111,\"#482878\"],[0.2222222222222222,\"#3e4989\"],[0.3333333333333333,\"#31688e\"],[0.4444444444444444,\"#26828e\"],[0.5555555555555556,\"#1f9e89\"],[0.6666666666666666,\"#35b779\"],[0.7777777777777778,\"#6ece58\"],[0.8888888888888888,\"#b5de2b\"],[1.0,\"#fde725\"]],\"type\":\"histogram2d\"}],\"histogram\":[{\"marker\":{\"line\":{\"color\":\"white\",\"width\":0.6}},\"type\":\"histogram\"}],\"mesh3d\":[{\"colorbar\":{\"outlinewidth\":1,\"tickcolor\":\"rgb(36,36,36)\",\"ticks\":\"outside\"},\"type\":\"mesh3d\"}],\"parcoords\":[{\"line\":{\"colorbar\":{\"outlinewidth\":1,\"tickcolor\":\"rgb(36,36,36)\",\"ticks\":\"outside\"}},\"type\":\"parcoords\"}],\"pie\":[{\"automargin\":true,\"type\":\"pie\"}],\"scatter3d\":[{\"line\":{\"colorbar\":{\"outlinewidth\":1,\"tickcolor\":\"rgb(36,36,36)\",\"ticks\":\"outside\"}},\"marker\":{\"colorbar\":{\"outlinewidth\":1,\"tickcolor\":\"rgb(36,36,36)\",\"ticks\":\"outside\"}},\"type\":\"scatter3d\"}],\"scattercarpet\":[{\"marker\":{\"colorbar\":{\"outlinewidth\":1,\"tickcolor\":\"rgb(36,36,36)\",\"ticks\":\"outside\"}},\"type\":\"scattercarpet\"}],\"scattergeo\":[{\"marker\":{\"colorbar\":{\"outlinewidth\":1,\"tickcolor\":\"rgb(36,36,36)\",\"ticks\":\"outside\"}},\"type\":\"scattergeo\"}],\"scattergl\":[{\"marker\":{\"colorbar\":{\"outlinewidth\":1,\"tickcolor\":\"rgb(36,36,36)\",\"ticks\":\"outside\"}},\"type\":\"scattergl\"}],\"scattermapbox\":[{\"marker\":{\"colorbar\":{\"outlinewidth\":1,\"tickcolor\":\"rgb(36,36,36)\",\"ticks\":\"outside\"}},\"type\":\"scattermapbox\"}],\"scatterpolargl\":[{\"marker\":{\"colorbar\":{\"outlinewidth\":1,\"tickcolor\":\"rgb(36,36,36)\",\"ticks\":\"outside\"}},\"type\":\"scatterpolargl\"}],\"scatterpolar\":[{\"marker\":{\"colorbar\":{\"outlinewidth\":1,\"tickcolor\":\"rgb(36,36,36)\",\"ticks\":\"outside\"}},\"type\":\"scatterpolar\"}],\"scatter\":[{\"fillpattern\":{\"fillmode\":\"overlay\",\"size\":10,\"solidity\":0.2},\"type\":\"scatter\"}],\"scatterternary\":[{\"marker\":{\"colorbar\":{\"outlinewidth\":1,\"tickcolor\":\"rgb(36,36,36)\",\"ticks\":\"outside\"}},\"type\":\"scatterternary\"}],\"surface\":[{\"colorbar\":{\"outlinewidth\":1,\"tickcolor\":\"rgb(36,36,36)\",\"ticks\":\"outside\"},\"colorscale\":[[0.0,\"#440154\"],[0.1111111111111111,\"#482878\"],[0.2222222222222222,\"#3e4989\"],[0.3333333333333333,\"#31688e\"],[0.4444444444444444,\"#26828e\"],[0.5555555555555556,\"#1f9e89\"],[0.6666666666666666,\"#35b779\"],[0.7777777777777778,\"#6ece58\"],[0.8888888888888888,\"#b5de2b\"],[1.0,\"#fde725\"]],\"type\":\"surface\"}],\"table\":[{\"cells\":{\"fill\":{\"color\":\"rgb(237,237,237)\"},\"line\":{\"color\":\"white\"}},\"header\":{\"fill\":{\"color\":\"rgb(217,217,217)\"},\"line\":{\"color\":\"white\"}},\"type\":\"table\"}]},\"layout\":{\"annotationdefaults\":{\"arrowhead\":0,\"arrowwidth\":1},\"autotypenumbers\":\"strict\",\"coloraxis\":{\"colorbar\":{\"outlinewidth\":1,\"tickcolor\":\"rgb(36,36,36)\",\"ticks\":\"outside\"}},\"colorscale\":{\"diverging\":[[0.0,\"rgb(103,0,31)\"],[0.1,\"rgb(178,24,43)\"],[0.2,\"rgb(214,96,77)\"],[0.3,\"rgb(244,165,130)\"],[0.4,\"rgb(253,219,199)\"],[0.5,\"rgb(247,247,247)\"],[0.6,\"rgb(209,229,240)\"],[0.7,\"rgb(146,197,222)\"],[0.8,\"rgb(67,147,195)\"],[0.9,\"rgb(33,102,172)\"],[1.0,\"rgb(5,48,97)\"]],\"sequential\":[[0.0,\"#440154\"],[0.1111111111111111,\"#482878\"],[0.2222222222222222,\"#3e4989\"],[0.3333333333333333,\"#31688e\"],[0.4444444444444444,\"#26828e\"],[0.5555555555555556,\"#1f9e89\"],[0.6666666666666666,\"#35b779\"],[0.7777777777777778,\"#6ece58\"],[0.8888888888888888,\"#b5de2b\"],[1.0,\"#fde725\"]],\"sequentialminus\":[[0.0,\"#440154\"],[0.1111111111111111,\"#482878\"],[0.2222222222222222,\"#3e4989\"],[0.3333333333333333,\"#31688e\"],[0.4444444444444444,\"#26828e\"],[0.5555555555555556,\"#1f9e89\"],[0.6666666666666666,\"#35b779\"],[0.7777777777777778,\"#6ece58\"],[0.8888888888888888,\"#b5de2b\"],[1.0,\"#fde725\"]]},\"colorway\":[\"#1F77B4\",\"#FF7F0E\",\"#2CA02C\",\"#D62728\",\"#9467BD\",\"#8C564B\",\"#E377C2\",\"#7F7F7F\",\"#BCBD22\",\"#17BECF\"],\"font\":{\"color\":\"rgb(36,36,36)\"},\"geo\":{\"bgcolor\":\"white\",\"lakecolor\":\"white\",\"landcolor\":\"white\",\"showlakes\":true,\"showland\":true,\"subunitcolor\":\"white\"},\"hoverlabel\":{\"align\":\"left\"},\"hovermode\":\"closest\",\"mapbox\":{\"style\":\"light\"},\"paper_bgcolor\":\"white\",\"plot_bgcolor\":\"white\",\"polar\":{\"angularaxis\":{\"gridcolor\":\"rgb(232,232,232)\",\"linecolor\":\"rgb(36,36,36)\",\"showgrid\":false,\"showline\":true,\"ticks\":\"outside\"},\"bgcolor\":\"white\",\"radialaxis\":{\"gridcolor\":\"rgb(232,232,232)\",\"linecolor\":\"rgb(36,36,36)\",\"showgrid\":false,\"showline\":true,\"ticks\":\"outside\"}},\"scene\":{\"xaxis\":{\"backgroundcolor\":\"white\",\"gridcolor\":\"rgb(232,232,232)\",\"gridwidth\":2,\"linecolor\":\"rgb(36,36,36)\",\"showbackground\":true,\"showgrid\":false,\"showline\":true,\"ticks\":\"outside\",\"zeroline\":false,\"zerolinecolor\":\"rgb(36,36,36)\"},\"yaxis\":{\"backgroundcolor\":\"white\",\"gridcolor\":\"rgb(232,232,232)\",\"gridwidth\":2,\"linecolor\":\"rgb(36,36,36)\",\"showbackground\":true,\"showgrid\":false,\"showline\":true,\"ticks\":\"outside\",\"zeroline\":false,\"zerolinecolor\":\"rgb(36,36,36)\"},\"zaxis\":{\"backgroundcolor\":\"white\",\"gridcolor\":\"rgb(232,232,232)\",\"gridwidth\":2,\"linecolor\":\"rgb(36,36,36)\",\"showbackground\":true,\"showgrid\":false,\"showline\":true,\"ticks\":\"outside\",\"zeroline\":false,\"zerolinecolor\":\"rgb(36,36,36)\"}},\"shapedefaults\":{\"fillcolor\":\"black\",\"line\":{\"width\":0},\"opacity\":0.3},\"ternary\":{\"aaxis\":{\"gridcolor\":\"rgb(232,232,232)\",\"linecolor\":\"rgb(36,36,36)\",\"showgrid\":false,\"showline\":true,\"ticks\":\"outside\"},\"baxis\":{\"gridcolor\":\"rgb(232,232,232)\",\"linecolor\":\"rgb(36,36,36)\",\"showgrid\":false,\"showline\":true,\"ticks\":\"outside\"},\"bgcolor\":\"white\",\"caxis\":{\"gridcolor\":\"rgb(232,232,232)\",\"linecolor\":\"rgb(36,36,36)\",\"showgrid\":false,\"showline\":true,\"ticks\":\"outside\"}},\"title\":{\"x\":0.05},\"xaxis\":{\"automargin\":true,\"gridcolor\":\"rgb(232,232,232)\",\"linecolor\":\"rgb(36,36,36)\",\"showgrid\":false,\"showline\":true,\"ticks\":\"outside\",\"title\":{\"standoff\":15},\"zeroline\":false,\"zerolinecolor\":\"rgb(36,36,36)\"},\"yaxis\":{\"automargin\":true,\"gridcolor\":\"rgb(232,232,232)\",\"linecolor\":\"rgb(36,36,36)\",\"showgrid\":false,\"showline\":true,\"ticks\":\"outside\",\"title\":{\"standoff\":15},\"zeroline\":false,\"zerolinecolor\":\"rgb(36,36,36)\"}}},\"scene\":{\"domain\":{\"x\":[0.0,1.0],\"y\":[0.0,1.0]},\"xaxis\":{\"title\":{\"text\":\"X\"}},\"yaxis\":{\"title\":{\"text\":\"Y\"}},\"zaxis\":{\"title\":{\"text\":\"Z\"}}},\"coloraxis\":{\"colorbar\":{\"title\":{\"text\":\"tIdx\"}},\"colorscale\":[[0.0,\"#440154\"],[0.1111111111111111,\"#482878\"],[0.2222222222222222,\"#3e4989\"],[0.3333333333333333,\"#31688e\"],[0.4444444444444444,\"#26828e\"],[0.5555555555555556,\"#1f9e89\"],[0.6666666666666666,\"#35b779\"],[0.7777777777777778,\"#6ece58\"],[0.8888888888888888,\"#b5de2b\"],[1.0,\"#fde725\"]],\"cmin\":-1,\"cmax\":4},\"legend\":{\"tracegroupgap\":0,\"itemsizing\":\"constant\"},\"margin\":{\"t\":60}},                        {\"responsive\": true}                    ).then(function(){\n",
       "                            \n",
       "var gd = document.getElementById('a939f244-8881-4a49-8f3b-eb164fdfd222');\n",
       "var x = new MutationObserver(function (mutations, observer) {{\n",
       "        var display = window.getComputedStyle(gd).display;\n",
       "        if (!display || display === 'none') {{\n",
       "            console.log([gd, 'removed!']);\n",
       "            Plotly.purge(gd);\n",
       "            observer.disconnect();\n",
       "        }}\n",
       "}});\n",
       "\n",
       "// Listen for the removal of the full notebook cells\n",
       "var notebookContainer = gd.closest('#notebook-container');\n",
       "if (notebookContainer) {{\n",
       "    x.observe(notebookContainer, {childList: true});\n",
       "}}\n",
       "\n",
       "// Listen for the clearing of the current output cell\n",
       "var outputEl = gd.closest('.output');\n",
       "if (outputEl) {{\n",
       "    x.observe(outputEl, {childList: true});\n",
       "}}\n",
       "\n",
       "                        })                };                });            </script>        </div>"
      ]
     },
     "metadata": {},
     "output_type": "display_data"
    }
   ],
   "source": [
    "\n",
    "import pandas as pd\n",
    "import plotly.express as px\n",
    "\n",
    "from src.logger.plotting_tools import shuffle_truth_colors\n",
    "g = dgl.unbatch(dic[\"graph\"])[3]\n",
    "mask = (g.ndata['particle_number'] !=-1)  #+(g.ndata['ct_track_label'] ==7) #+(g.ndata['particle_number'] ==20) \n",
    "tidx =  torch.Tensor(hdb.labels_)[mask].view(-1,1)# 1*(g.ndata['particle_number'][mask]).view(-1,1)  #labels[mask].view(-1,1)\n",
    "#tidx =    1*(g.ndata['hit_link_modified'][mask].view(-1,1))+1\n",
    "features = 1*(torch.ones_like(torch.sigmoid(g.ndata[\"model_output\"][mask][:,3])).view(-1,1))\n",
    "cellid= g.ndata['particle_number'][mask].view(-1,1)\n",
    "X = g.ndata[\"pos_hits_xyz\"][mask][:,0:3] #[mask]\n",
    "data = {\n",
    "            \"X\":X[:, 0].view(-1, 1).detach().cpu().numpy(),\n",
    "            \"Y\": X[:, 1].view(-1, 1).detach().cpu().numpy(),\n",
    "            \"Z\": X[:, 2].view(-1, 1).detach().cpu().numpy(),\n",
    "            \"tIdx\": tidx.view(-1, 1).detach().cpu().numpy(),\n",
    "            \"features\": features.view(-1, 1).detach().cpu().numpy(),\n",
    "            # \"cellid\":cellid.view(-1, 1).detach().cpu().numpy(),\n",
    "        }\n",
    "hoverdict = {}\n",
    "\n",
    "\n",
    "df = pd.DataFrame(\n",
    "np.concatenate([data[k] for k in data], axis=1),\n",
    "columns=[k for k in data],\n",
    ")\n",
    "rdst = np.random.RandomState(1234567890)  # all the same\n",
    "# shuffle_truth_colors(df, \"tIdx\", rdst)\n",
    "\n",
    "hover_data = [\"tIdx\", \"cellid\"] #+ [k for k in hoverdict.keys()]\n",
    "# if nidx is not None:\n",
    "#     hover_data.append(\"av_same\")\n",
    "# fig = go.Figure()\n",
    "fig = px.scatter_3d(\n",
    "df,\n",
    "x=\"X\",\n",
    "y=\"Y\",\n",
    "z=\"Z\",\n",
    "color=\"tIdx\",\n",
    "size=\"features\",\n",
    "# hover_data=hover_data,\n",
    "template=\"simple_white\",\n",
    "range_color=[-1,4],\n",
    "# color_continuous_scale=px.colors.sequential.Turbo,\n",
    ")\n",
    "# fig.update_layout(\n",
    "#     scene = dict(\n",
    "#         xaxis = dict(visible=False),\n",
    "#         yaxis = dict(visible=False),\n",
    "#         zaxis =dict(visible=False)\n",
    "#         )\n",
    "#     )\n",
    "fig.update_traces(marker=dict(line=dict(width=0)))\n",
    "# fig.update_traces(marker_size = 2)\n",
    "# mask_cdc= (g.ndata['hit_type'][mask] ==0)\n",
    "# X_cdc = g.ndata[\"pos_hits_xyz\"][mask][mask_cdc]\n",
    "# vector_cdc = g.ndata[\"vector\"][mask][mask_cdc]\n",
    "# for i in range(0,torch.sum(g.ndata['hit_type'][mask] ==0)):\n",
    "#     plot_single_arrow(fig,vector_cdc[i]*25,init_pt= X_cdc[i])\n",
    "# fig.update_traces(marker=dict(line=dict(width=0)))\n",
    "# fig.update_traces(marker_size = 2)\n",
    "# fig.update_layout(\n",
    "#     autosize=False,\n",
    "#     width=800,\n",
    "#     height=800,\n",
    "# )\n",
    "fig.show()"
   ]
  },
  {
   "cell_type": "code",
   "execution_count": 25,
   "metadata": {},
   "outputs": [
    {
     "data": {
      "text/plain": [
       "Graph(num_nodes=42, num_edges=0,\n",
       "      ndata_schemes={'vector': Scheme(shape=(3,), dtype=torch.float32), 'hit_type': Scheme(shape=(), dtype=torch.float32), 'particle_number': Scheme(shape=(), dtype=torch.float32), 'particle_number_nomap': Scheme(shape=(), dtype=torch.float32), 'pos_hits_xyz': Scheme(shape=(3,), dtype=torch.float32), 'cellid': Scheme(shape=(1,), dtype=torch.float32), 'model_output': Scheme(shape=(4,), dtype=torch.float32)}\n",
       "      edata_schemes={})"
      ]
     },
     "execution_count": 25,
     "metadata": {},
     "output_type": "execute_result"
    }
   ],
   "source": [
    "g"
   ]
  },
  {
   "cell_type": "code",
   "execution_count": 159,
   "metadata": {},
   "outputs": [
    {
     "data": {
      "text/plain": [
       "13"
      ]
     },
     "execution_count": 159,
     "metadata": {},
     "output_type": "execute_result"
    }
   ],
   "source": [
    "len(torch.unique(graph.ndata[\"unique_id\"][graph.ndata[\"particle_number\"]==1]))"
   ]
  },
  {
   "cell_type": "code",
   "execution_count": 157,
   "metadata": {},
   "outputs": [
    {
     "data": {
      "text/plain": [
       "tensor([2.0000e+00, 3.0000e+00, 4.0000e+00, 5.0000e+00, 1.3107e+05, 1.3107e+05,\n",
       "        1.3107e+05, 1.9661e+05, 3.9296e+05])"
      ]
     },
     "execution_count": 157,
     "metadata": {},
     "output_type": "execute_result"
    }
   ],
   "source": [
    "torch.unique(graph.ndata[\"unique_id\"][graph.ndata[\"ct_track_label\"]==0])*1.0"
   ]
  },
  {
   "cell_type": "code",
   "execution_count": 77,
   "metadata": {},
   "outputs": [],
   "source": [
    "\n",
    "# import pandas as pd\n",
    "# import plotly.express as px\n",
    "\n",
    "# from src.logger.plotting_tools import shuffle_truth_colors\n",
    "# g = dgl.unbatch(dic[\"graph\"])[0]\n",
    "# mask = (g.ndata['particle_number'] ==6) #+(g.ndata['particle_number'] ==13)+(g.ndata['particle_number'] ==20) \n",
    "# tidx =  labels[mask].view(-1,1)\n",
    "# #tidx =    1*(g.ndata['hit_link_modified'][mask].view(-1,1))+1\n",
    "# features = 0.05* (torch.ones_like(g.ndata['particle_number'][mask].view(-1,1)))\n",
    "# cellid= g.ndata['particle_number'][mask].view(-1,1)\n",
    "# X = g.ndata[\"pos_hits_xyz\"][mask] #[mask]\n",
    "# data = {\n",
    "#             \"X\":X[:, 0].view(-1, 1).detach().cpu().numpy(),\n",
    "#             \"Y\": X[:, 1].view(-1, 1).detach().cpu().numpy(),\n",
    "#             \"Z\": X[:, 2].view(-1, 1).detach().cpu().numpy(),\n",
    "#             \"tIdx\": tidx.view(-1, 1).detach().cpu().numpy(),\n",
    "#             \"features\": features.view(-1, 1).detach().cpu().numpy(),\n",
    "#             \"cellid\":cellid.view(-1, 1).detach().cpu().numpy(),\n",
    "#         }\n",
    "# hoverdict = {}\n",
    "\n",
    "\n",
    "# df = pd.DataFrame(\n",
    "# np.concatenate([data[k] for k in data], axis=1),\n",
    "# columns=[k for k in data],\n",
    "# )\n",
    "# rdst = np.random.RandomState(1234567890)  # all the same\n",
    "# # shuffle_truth_colors(df, \"tIdx\", rdst)\n",
    "\n",
    "# hover_data = [\"tIdx\", \"cellid\"] #+ [k for k in hoverdict.keys()]\n",
    "# # if nidx is not None:\n",
    "# #     hover_data.append(\"av_same\")\n",
    "# # fig = go.Figure()\n",
    "# fig = px.scatter_3d(\n",
    "# df,\n",
    "# x=\"X\",\n",
    "# y=\"Y\",\n",
    "# z=\"Z\",\n",
    "# color=\"tIdx\",\n",
    "# size=\"features\",\n",
    "# hover_data=hover_data,\n",
    "# template=\"simple_white\",\n",
    "# range_color=[0,40],\n",
    "# color_continuous_scale=px.colors.sequential.Turbo,\n",
    "# )\n",
    "# # fig.update_layout(\n",
    "# #     scene = dict(\n",
    "# #         xaxis = dict(visible=False),\n",
    "# #         yaxis = dict(visible=False),\n",
    "# #         zaxis =dict(visible=False)\n",
    "# #         )\n",
    "# #     )\n",
    "# fig.update_traces(marker=dict(line=dict(width=0)))\n",
    "# fig.update_traces(marker_size = 2)\n"
   ]
  },
  {
   "cell_type": "code",
   "execution_count": 78,
   "metadata": {},
   "outputs": [],
   "source": [
    "def match_showers(\n",
    "    labels,\n",
    "    dic,\n",
    "    particle_ids,\n",
    "    model_output,\n",
    "    local_rank,\n",
    "    i,\n",
    "    path_save,\n",
    "):\n",
    "    iou_threshold = 0.1\n",
    "    print(\"particle_ids\", particle_ids)\n",
    "    shower_p_unique = torch.unique(labels)\n",
    "    print(\"shower_p_unique\", shower_p_unique)\n",
    "    if torch.sum(labels == 0) == 0:\n",
    "        # if there is no zero it adds one\n",
    "        shower_p_unique = torch.cat(\n",
    "            (\n",
    "                torch.Tensor([0]).to(shower_p_unique.device).view(-1),\n",
    "                shower_p_unique.view(-1),\n",
    "            ),\n",
    "            dim=0,\n",
    "        )\n",
    "    # all hits weight the same\n",
    "    e_hits = torch.ones_like(labels)\n",
    "    i_m, i_m_w = obtain_intersection_matrix(\n",
    "        shower_p_unique, particle_ids, labels, dic, e_hits\n",
    "    )\n",
    "    i_m = i_m.to(model_output.device)\n",
    "    i_m_w = i_m_w.to(model_output.device)\n",
    "    u_m = obtain_union_matrix(shower_p_unique, particle_ids, labels, dic)\n",
    "    u_m = u_m.to(model_output.device)\n",
    "    iou_matrix = i_m / u_m\n",
    "    # taking from index 1 here excludes 0 the noise track from the predicted tracks\n",
    "    if torch.sum(particle_ids == 0) > 0:\n",
    "        # removing also the MC particle corresponding to noise \n",
    "        iou_matrix_num = (\n",
    "            torch.transpose(iou_matrix[1:,1:], 1, 0).clone().detach().cpu().numpy()\n",
    "        )\n",
    "    else:\n",
    "        iou_matrix_num = (\n",
    "            torch.transpose(iou_matrix[1:, :], 1, 0).clone().detach().cpu().numpy()\n",
    "        )\n",
    "    iou_matrix_num[iou_matrix_num < iou_threshold] = 0\n",
    "    row_ind, col_ind = linear_sum_assignment(-iou_matrix_num)\n",
    "    # if torch.sum(particle_ids == 0) > 0:\n",
    "    #     row_ind = row_ind + 1\n",
    "    # next three lines remove solutions where there is a shower that is not associated and iou it's zero (or less than threshold)\n",
    "    mask_matching_matrix = iou_matrix_num[row_ind, col_ind] > 0\n",
    "    row_ind = row_ind[mask_matching_matrix]\n",
    "    col_ind = col_ind[mask_matching_matrix]\n",
    "    \n",
    "    if torch.sum(particle_ids == 0) > 0:\n",
    "        row_ind = row_ind + 1\n",
    "    # if i == 0 and local_rank == 0:\n",
    "    #     if path_save is not None:\n",
    "    #         image_path = path_save + \"/example_1_clustering.png\"\n",
    "    #         plot_iou_matrix(iou_matrix, image_path)\n",
    "    # row_ind are particles that are matched and col_ind the ind of preds they are matched to\n",
    "    return shower_p_unique, row_ind, col_ind, i_m_w, iou_matrix"
   ]
  },
  {
   "cell_type": "code",
   "execution_count": null,
   "metadata": {},
   "outputs": [],
   "source": []
  }
 ],
 "metadata": {
  "kernelspec": {
   "display_name": "Python 3.10.11 ('graphgps': conda)",
   "language": "python",
   "name": "python3"
  },
  "language_info": {
   "codemirror_mode": {
    "name": "ipython",
    "version": 3
   },
   "file_extension": ".py",
   "mimetype": "text/x-python",
   "name": "python",
   "nbconvert_exporter": "python",
   "pygments_lexer": "ipython3",
   "version": "3.10.11"
  },
  "orig_nbformat": 4,
  "vscode": {
   "interpreter": {
    "hash": "f1db199df8f75d900d458855decbcf5956490222a21736f6416c2999d256400d"
   }
  }
 },
 "nbformat": 4,
 "nbformat_minor": 2
}
